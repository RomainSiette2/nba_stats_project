{
 "cells": [
  {
   "cell_type": "code",
   "execution_count": 1,
   "id": "52c7c8ca",
   "metadata": {},
   "outputs": [],
   "source": [
    "from nba_api.stats.static import players, teams\n",
    "from nba_api.stats.endpoints import PlayerCareerStats, PlayerGameLog, CommonPlayerInfo, ShotChartDetail\n",
    "from nba_api.live.nba.endpoints import scoreboard\n",
    "from nba_api.stats.endpoints import leaguedashplayerstats\n",
    "import pandas as pd\n",
    "import numpy as np\n",
    "import matplotlib.pyplot as plt\n",
    "import seaborn as sns\n",
    "import plotly.express as px\n",
    "import time"
   ]
  },
  {
   "cell_type": "markdown",
   "id": "7f0c2158",
   "metadata": {},
   "source": [
    "# Exploration des performances individuelles"
   ]
  },
  {
   "cell_type": "code",
   "execution_count": 2,
   "id": "d45b5064",
   "metadata": {},
   "outputs": [],
   "source": [
    "def get_data_frame(player_full_name,season):\n",
    "    player_id = players.find_players_by_full_name(player_full_name)[0][\"id\"]\n",
    "    time.sleep(1)\n",
    "    data_player = PlayerGameLog(player_id, season=season).get_data_frames()[0]\n",
    "    return data_player, player_id\n"
   ]
  },
  {
   "cell_type": "code",
   "execution_count": 3,
   "id": "6d48c90a",
   "metadata": {},
   "outputs": [],
   "source": [
    "df, player_id = get_data_frame(\"Stephen Curry\", \"2022-23\")\n"
   ]
  },
  {
   "cell_type": "code",
   "execution_count": null,
   "id": "befe0505",
   "metadata": {},
   "outputs": [],
   "source": [
    "def get_season_player(player_id):"
   ]
  },
  {
   "cell_type": "code",
   "execution_count": 5,
   "id": "ec925fc6",
   "metadata": {},
   "outputs": [],
   "source": [
    "time.sleep(2)\n",
    "df = PlayerCareerStats(player_id=player_id).get_data_frames()[0]"
   ]
  },
  {
   "cell_type": "code",
   "execution_count": 11,
   "id": "434edaa1",
   "metadata": {},
   "outputs": [
    {
     "data": {
      "text/plain": [
       "['2009-10',\n",
       " '2010-11',\n",
       " '2011-12',\n",
       " '2012-13',\n",
       " '2013-14',\n",
       " '2014-15',\n",
       " '2015-16',\n",
       " '2016-17',\n",
       " '2017-18',\n",
       " '2018-19',\n",
       " '2019-20',\n",
       " '2020-21',\n",
       " '2021-22',\n",
       " '2022-23',\n",
       " '2023-24',\n",
       " '2024-25']"
      ]
     },
     "execution_count": 11,
     "metadata": {},
     "output_type": "execute_result"
    }
   ],
   "source": [
    "season = df[\"SEASON_ID\"].to_list()\n",
    "season"
   ]
  },
  {
   "cell_type": "code",
   "execution_count": null,
   "id": "b8e6f46f",
   "metadata": {},
   "outputs": [],
   "source": []
  },
  {
   "cell_type": "code",
   "execution_count": 12,
   "id": "04ce34eb",
   "metadata": {},
   "outputs": [],
   "source": [
    "def get_player_season(player_id):\n",
    "    df = PlayerCareerStats(player_id=player_id).get_data_frames()[0]\n",
    "    season = df[\"SEASON_ID\"].to_list()\n",
    "    return season\n"
   ]
  },
  {
   "cell_type": "code",
   "execution_count": 32,
   "id": "7ccd33e4",
   "metadata": {},
   "outputs": [
    {
     "data": {
      "text/html": [
       "<div>\n",
       "<style scoped>\n",
       "    .dataframe tbody tr th:only-of-type {\n",
       "        vertical-align: middle;\n",
       "    }\n",
       "\n",
       "    .dataframe tbody tr th {\n",
       "        vertical-align: top;\n",
       "    }\n",
       "\n",
       "    .dataframe thead th {\n",
       "        text-align: right;\n",
       "    }\n",
       "</style>\n",
       "<table border=\"1\" class=\"dataframe\">\n",
       "  <thead>\n",
       "    <tr style=\"text-align: right;\">\n",
       "      <th></th>\n",
       "      <th>PTS</th>\n",
       "      <th>REB</th>\n",
       "      <th>AST</th>\n",
       "    </tr>\n",
       "  </thead>\n",
       "  <tbody>\n",
       "    <tr>\n",
       "      <th>0</th>\n",
       "      <td>29.4</td>\n",
       "      <td>6.1</td>\n",
       "      <td>6.3</td>\n",
       "    </tr>\n",
       "  </tbody>\n",
       "</table>\n",
       "</div>"
      ],
      "text/plain": [
       "    PTS  REB  AST\n",
       "0  29.4  6.1  6.3"
      ]
     },
     "execution_count": 32,
     "metadata": {},
     "output_type": "execute_result"
    }
   ],
   "source": [
    "df_pts_reb_pas = round(df[[\"PTS\",\"REB\",\"AST\"]].mean().to_frame().transpose(),1)\n",
    "df_pts_reb_pas\n"
   ]
  },
  {
   "cell_type": "code",
   "execution_count": 33,
   "id": "86c8c3f4",
   "metadata": {},
   "outputs": [],
   "source": [
    "def player_avg_stats(player_full_name,season):\n",
    "    df = get_data_frame(player_full_name,season)\n",
    "    df_avg = round(df[[\"PTS\",\"REB\",\"AST\"]].mean().to_frame().transpose(),1)\n",
    "    avg_pts = df_avg[\"PTS\"]\n",
    "    avg_reb = df_avg[\"REB\"]\n",
    "    avg_ast = df_avg[\"AST\"]\n",
    "    return avg_pts, avg_reb, avg_ast\n",
    "\n",
    "\n"
   ]
  },
  {
   "cell_type": "code",
   "execution_count": null,
   "id": "0d537abd",
   "metadata": {},
   "outputs": [],
   "source": []
  },
  {
   "cell_type": "code",
   "execution_count": 56,
   "id": "d7b24cbc",
   "metadata": {},
   "outputs": [],
   "source": [
    "def mean_win_loss(player_full_name, season):\n",
    "    df = get_data_frame(player_full_name, season)\n",
    "    mean_WL = df.groupby(\"WL\")[\"PTS\"].mean().reset_index()\n",
    "    return mean_WL"
   ]
  },
  {
   "cell_type": "code",
   "execution_count": null,
   "id": "c0d5c388",
   "metadata": {},
   "outputs": [
    {
     "data": {
      "text/html": [
       "<div>\n",
       "<style scoped>\n",
       "    .dataframe tbody tr th:only-of-type {\n",
       "        vertical-align: middle;\n",
       "    }\n",
       "\n",
       "    .dataframe tbody tr th {\n",
       "        vertical-align: top;\n",
       "    }\n",
       "\n",
       "    .dataframe thead th {\n",
       "        text-align: right;\n",
       "    }\n",
       "</style>\n",
       "<table border=\"1\" class=\"dataframe\">\n",
       "  <thead>\n",
       "    <tr style=\"text-align: right;\">\n",
       "      <th></th>\n",
       "      <th>WL</th>\n",
       "      <th>PTS</th>\n",
       "    </tr>\n",
       "  </thead>\n",
       "  <tbody>\n",
       "    <tr>\n",
       "      <th>0</th>\n",
       "      <td>L</td>\n",
       "      <td>28.807692</td>\n",
       "    </tr>\n",
       "    <tr>\n",
       "      <th>1</th>\n",
       "      <td>W</td>\n",
       "      <td>29.966667</td>\n",
       "    </tr>\n",
       "  </tbody>\n",
       "</table>\n",
       "</div>"
      ],
      "text/plain": [
       "  WL        PTS\n",
       "0  L  28.807692\n",
       "1  W  29.966667"
      ]
     },
     "execution_count": 57,
     "metadata": {},
     "output_type": "execute_result"
    }
   ],
   "source": [
    "mean_WL = mean_win_loss(\"stephen curry\", \"2022-23\")"
   ]
  },
  {
   "cell_type": "code",
   "execution_count": 58,
   "id": "9d3aae0a",
   "metadata": {},
   "outputs": [],
   "source": [
    "def barplot_WL(player_full_name, season):\n",
    "    mean_WL = mean_win_loss(player_full_name, season)\n",
    "    fig, ax = plt.subplots()\n",
    "    ax.bar(mean_WL[\"WL\"],mean_WL[\"PTS\"],color=\"skyblue\",width=0.5,align=\"center\",edgecolor=\"black\")\n",
    "    ax.set_title(\"Moyenne de points lors des victoires et défaites\")\n",
    "    ax.set_xlabel(\"Win or Loss\")\n",
    "    ax.set_ylabel(\"Moyenne de points\")\n",
    "    return plt.show()"
   ]
  },
  {
   "cell_type": "code",
   "execution_count": 63,
   "id": "6ebdd869",
   "metadata": {},
   "outputs": [
    {
     "data": {
      "image/png": "[encoded data removed]",
      "text/plain": [
       "<Figure size 640x480 with 1 Axes>"
      ]
     },
     "metadata": {},
     "output_type": "display_data"
    }
   ],
   "source": [
    "barplot_WL(\"luka doncic\", \"2022-23\")"
   ]
  },
  {
   "cell_type": "code",
   "execution_count": null,
   "id": "1c6be123",
   "metadata": {},
   "outputs": [
    {
     "name": "stdout",
     "output_type": "stream",
     "text": [
      "{'id': 76001, 'full_name': 'Alaa Abdelnaby', 'first_name': 'Alaa', 'last_name': 'Abdelnaby', 'is_active': False}\n"
     ]
    }
   ],
   "source": [
    "playercareerstats()"
   ]
  }
 ],
 "metadata": {
  "kernelspec": {
   "display_name": "nba_env",
   "language": "python",
   "name": "python3"
  },
  "language_info": {
   "codemirror_mode": {
    "name": "ipython",
    "version": 3
   },
   "file_extension": ".py",
   "mimetype": "text/x-python",
   "name": "python",
   "nbconvert_exporter": "python",
   "pygments_lexer": "ipython3",
   "version": "3.12.3"
  }
 },
 "nbformat": 4,
 "nbformat_minor": 5
}
