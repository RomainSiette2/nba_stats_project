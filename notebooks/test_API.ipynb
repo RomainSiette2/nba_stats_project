{
 "cells": [
  {
   "cell_type": "code",
   "execution_count": 22,
   "id": "d67697af",
   "metadata": {},
   "outputs": [],
   "source": [
    "from nba_api.stats.static import players, teams\n",
    "from nba_api.stats.endpoints import playercareerstats, PlayerGameLog, CommonPlayerInfo, ShotChartDetail\n",
    "from nba_api.live.nba.endpoints import scoreboard\n",
    "from nba_api.stats.endpoints import leaguedashplayerstats\n",
    "import pandas as pd\n",
    "import numpy as np\n",
    "import matplotlib.pyplot as plt\n",
    "import seaborn as sns\n",
    "import plotly.express as px\n"
   ]
  },
  {
   "cell_type": "code",
   "execution_count": 5,
   "id": "5a016383",
   "metadata": {},
   "outputs": [],
   "source": [
    "def find_active_players():\n",
    "    all_players = players.get_players()\n",
    "    active_players = []\n",
    "    for player in all_players:\n",
    "        if player[\"is_active\"] is True:\n",
    "            active_players.append(player[\"full_name\"])\n",
    "    return active_players"
   ]
  },
  {
   "cell_type": "code",
   "execution_count": 6,
   "id": "652411cb",
   "metadata": {},
   "outputs": [
    {
     "data": {
      "text/plain": [
       "['Precious Achiuwa',\n",
       " 'Steven Adams',\n",
       " 'Bam Adebayo',\n",
       " 'Ochai Agbaji',\n",
       " 'Santi Aldama',\n",
       " 'Trey Alexander',\n",
       " 'Nickeil Alexander-Walker',\n",
       " 'Grayson Allen',\n",
       " 'Jarrett Allen',\n",
       " 'Jose Alvarado',\n",
       " 'Kyle Anderson',\n",
       " 'Giannis Antetokounmpo',\n",
       " 'Cole Anthony',\n",
       " 'OG Anunoby',\n",
       " 'Taran Armstrong',\n",
       " 'Deni Avdija',\n",
       " 'Deandre Ayton',\n",
       " 'Marcus Bagley',\n",
       " 'Marvin Bagley III',\n",
       " 'Patrick Baldwin Jr.',\n",
       " 'LaMelo Ball',\n",
       " 'Lonzo Ball',\n",
       " 'Mo Bamba',\n",
       " 'Paolo Banchero',\n",
       " 'Desmond Bane',\n",
       " 'Dalano Banton',\n",
       " 'Dominick Barlow',\n",
       " 'Harrison Barnes',\n",
       " 'Scottie Barnes',\n",
       " 'RJ Barrett',\n",
       " 'Charles Bassey',\n",
       " 'Emoni Bates',\n",
       " 'Jamison Battle',\n",
       " 'Nicolas Batum',\n",
       " 'Damion Baugh',\n",
       " 'Bradley Beal',\n",
       " 'Malik Beasley',\n",
       " 'MarJon Beauchamp',\n",
       " 'Reece Beekman',\n",
       " 'Saddiq Bey',\n",
       " 'Goga Bitadze',\n",
       " 'Bismack Biyombo',\n",
       " 'Anthony Black',\n",
       " 'Bogdan Bogdanović',\n",
       " 'Bol Bol',\n",
       " 'Adem Bona',\n",
       " 'Devin Booker',\n",
       " 'Brandon Boston',\n",
       " 'Chris Boucher',\n",
       " 'Jamaree Bouyea',\n",
       " 'Tony Bradley',\n",
       " 'Malaki Branham',\n",
       " 'Christian Braun',\n",
       " 'Jalen Bridges',\n",
       " 'Mikal Bridges',\n",
       " 'Miles Bridges',\n",
       " 'Oshae Brissett',\n",
       " 'Malcolm Brogdon',\n",
       " 'Dillon Brooks',\n",
       " 'Keion Brooks Jr.',\n",
       " 'Bruce Brown',\n",
       " 'Jaylen Brown',\n",
       " 'Kobe Brown',\n",
       " 'Moses Brown',\n",
       " 'Jalen Brunson',\n",
       " 'Thomas Bryant',\n",
       " 'Kobe Bufkin',\n",
       " 'Alec Burks',\n",
       " 'Jared Butler',\n",
       " 'Jimmy Butler III',\n",
       " 'Matas Buzelis',\n",
       " 'Jamal Cain',\n",
       " 'Kentavious Caldwell-Pope',\n",
       " 'Toumani Camara',\n",
       " 'Clint Capela',\n",
       " 'Branden Carlson',\n",
       " 'Bub Carrington',\n",
       " 'Devin Carter',\n",
       " 'Jevon Carter',\n",
       " 'Wendell Carter Jr.',\n",
       " 'D.J. Carton',\n",
       " 'Alex Caruso',\n",
       " 'Stephon Castle',\n",
       " 'Colin Castleton',\n",
       " 'Julian Champagnie',\n",
       " 'Justin Champagnie',\n",
       " 'Ulrich Chomche',\n",
       " 'Cam Christie',\n",
       " 'Max Christie',\n",
       " 'Josh Christopher',\n",
       " 'Sidy Cissoko',\n",
       " 'Jaylen Clark',\n",
       " 'Brandon Clarke',\n",
       " 'Jordan Clarkson',\n",
       " 'Nic Claxton',\n",
       " 'Donovan Clingan',\n",
       " 'Noah Clowney',\n",
       " 'Amir Coffey',\n",
       " 'Isaiah Collier',\n",
       " 'John Collins',\n",
       " 'Yuri Collins',\n",
       " 'Zach Collins',\n",
       " 'Mike Conley',\n",
       " 'Pat Connaughton',\n",
       " 'Bilal Coulibaly',\n",
       " 'Ricky Council IV',\n",
       " 'Torrey Craig',\n",
       " 'Isaiah Crawford',\n",
       " 'Jae Crowder',\n",
       " 'Cade Cunningham',\n",
       " 'Seth Curry',\n",
       " 'Stephen Curry',\n",
       " 'Pacome Dadiet',\n",
       " 'Dyson Daniels',\n",
       " \"N'Faly Dante\",\n",
       " 'Anthony Davis',\n",
       " 'Johnny Davis',\n",
       " 'JD Davison',\n",
       " 'DeMar DeRozan',\n",
       " 'RayJ Dennis',\n",
       " 'Donte DiVincenzo',\n",
       " 'Moussa Diabaté',\n",
       " 'Gradey Dick',\n",
       " 'Ousmane Dieng',\n",
       " 'Rob Dillingham',\n",
       " 'Spencer Dinwiddie',\n",
       " 'Luka Dončić',\n",
       " 'Luguentz Dort',\n",
       " 'Ayo Dosunmu',\n",
       " 'Jeff Dowtin Jr.',\n",
       " 'PJ Dozier',\n",
       " 'Andre Drummond',\n",
       " 'Chris Duarte',\n",
       " 'Alex Ducas',\n",
       " 'David Duke Jr.',\n",
       " 'Kris Dunn',\n",
       " 'Ryan Dunn',\n",
       " 'Kevin Durant',\n",
       " 'Jalen Duren',\n",
       " 'Tari Eason',\n",
       " 'Zach Edey',\n",
       " 'Anthony Edwards',\n",
       " 'Jesse Edwards',\n",
       " 'Justin Edwards',\n",
       " 'Kessler Edwards',\n",
       " 'Keon Ellis',\n",
       " 'Joel Embiid',\n",
       " 'Tyson Etienne',\n",
       " 'Drew Eubanks',\n",
       " 'Tosan Evbuomwan',\n",
       " 'Danté Exum',\n",
       " 'Bruno Fernando',\n",
       " 'Kyle Filipowski',\n",
       " 'Dorian Finney-Smith',\n",
       " 'Adam Flagler',\n",
       " 'Trentyn Flowers',\n",
       " 'Malachi Flynn',\n",
       " 'Simone Fontecchio',\n",
       " \"De'Aaron Fox\",\n",
       " 'Enrique Freeman',\n",
       " 'Markelle Fultz',\n",
       " 'Johnny Furphy',\n",
       " 'Daniel Gafford',\n",
       " 'Darius Garland',\n",
       " 'Marcus Garrett',\n",
       " 'Luka Garza',\n",
       " 'Keyonte George',\n",
       " 'Kyshawn George',\n",
       " 'Paul George',\n",
       " 'Taj Gibson',\n",
       " 'Josh Giddey',\n",
       " 'Shai Gilgeous-Alexander',\n",
       " 'Anthony Gill',\n",
       " 'Collin Gillespie',\n",
       " 'Rudy Gobert',\n",
       " 'Jordan Goodwin',\n",
       " 'Aaron Gordon',\n",
       " 'Eric Gordon',\n",
       " 'Jazian Gortman',\n",
       " 'Jerami Grant',\n",
       " 'AJ Green',\n",
       " 'Draymond Green',\n",
       " 'Jalen Green',\n",
       " 'Javonte Green',\n",
       " 'Jeff Green',\n",
       " 'Josh Green',\n",
       " 'Quentin Grimes',\n",
       " 'Mouhamed Gueye',\n",
       " 'Rui Hachimura',\n",
       " 'Tyrese Haliburton',\n",
       " 'PJ Hall',\n",
       " 'Tim Hardaway Jr.',\n",
       " 'James Harden',\n",
       " 'Jaden Hardy',\n",
       " 'Elijah Harkless',\n",
       " 'Ron Harper Jr.',\n",
       " 'Gary Harris',\n",
       " 'Tobias Harris',\n",
       " 'Josh Hart',\n",
       " 'Isaiah Hartenstein',\n",
       " 'Sam Hauser',\n",
       " 'Jordan Hawkins',\n",
       " 'Jaxson Hayes',\n",
       " 'Killian Hayes',\n",
       " 'Scoot Henderson',\n",
       " 'Taylor Hendricks',\n",
       " 'Tyler Herro',\n",
       " 'Buddy Hield',\n",
       " 'Haywood Highsmith',\n",
       " 'Aaron Holiday',\n",
       " 'Jrue Holiday',\n",
       " 'Ronald Holland II',\n",
       " 'Richaun Holmes',\n",
       " 'DaRon Holmes II',\n",
       " 'Chet Holmgren',\n",
       " 'Jalen Hood-Schifino',\n",
       " 'Al Horford',\n",
       " 'Talen Horton-Tucker',\n",
       " 'Caleb Houstan',\n",
       " 'Jett Howard',\n",
       " 'Kevin Huerter',\n",
       " 'Jay Huff',\n",
       " 'Ariel Hukporti',\n",
       " \"De'Andre Hunter\",\n",
       " 'Bones Hyland',\n",
       " 'Oso Ighodaro',\n",
       " 'Joe Ingles',\n",
       " 'Brandon Ingram',\n",
       " 'Harrison Ingram',\n",
       " 'Kyrie Irving',\n",
       " 'Jonathan Isaac',\n",
       " 'Jaden Ivey',\n",
       " 'GG Jackson',\n",
       " 'Isaiah Jackson',\n",
       " 'Quenton Jackson',\n",
       " 'Reggie Jackson',\n",
       " 'Andre Jackson Jr.',\n",
       " 'Jaren Jackson Jr.',\n",
       " 'Trayce Jackson-Davis',\n",
       " 'Bronny James',\n",
       " 'LeBron James',\n",
       " 'Jaime Jaquez Jr.',\n",
       " 'DaQuan Jeffries',\n",
       " 'Trey Jemison III',\n",
       " 'Daniss Jenkins',\n",
       " 'Ty Jerome',\n",
       " 'Isaiah Joe',\n",
       " 'AJ Johnson',\n",
       " 'Cameron Johnson',\n",
       " 'Jalen Johnson',\n",
       " 'James Johnson',\n",
       " 'Keldon Johnson',\n",
       " 'Keon Johnson',\n",
       " 'Keshad Johnson',\n",
       " 'Nikola Jokić',\n",
       " 'Colby Jones',\n",
       " 'Dillon Jones',\n",
       " 'Herbert Jones',\n",
       " 'Isaac Jones',\n",
       " 'Kai Jones',\n",
       " 'Mason Jones',\n",
       " 'Spencer Jones',\n",
       " 'Tre Jones',\n",
       " 'Tyus Jones',\n",
       " 'Derrick Jones Jr.',\n",
       " 'DeAndre Jordan',\n",
       " 'Cory Joseph',\n",
       " 'Nikola Jović',\n",
       " 'Johnny Juzang',\n",
       " 'Yuki Kawamura',\n",
       " 'Kylor Kelley',\n",
       " 'Luke Kennard',\n",
       " 'Walker Kessler',\n",
       " 'Braxton Key',\n",
       " 'Corey Kispert',\n",
       " 'Maxi Kleber',\n",
       " 'Bobi Klintman',\n",
       " 'Dalton Knecht',\n",
       " 'Kevin Knox II',\n",
       " 'Tyler Kolek',\n",
       " 'Christian Koloko',\n",
       " 'John Konchar',\n",
       " 'Luke Kornet',\n",
       " 'Vít Krejčí',\n",
       " 'Jonathan Kuminga',\n",
       " 'Kyle Kuzma',\n",
       " 'Jake LaRavia',\n",
       " 'Zach LaVine',\n",
       " 'Skal Labissiere',\n",
       " 'Jock Landale',\n",
       " 'Pelle Larsson',\n",
       " 'A.J. Lawson',\n",
       " 'Caris LeVert',\n",
       " 'Damion Lee',\n",
       " 'Alex Len',\n",
       " 'Kawhi Leonard',\n",
       " 'Malevy Leons',\n",
       " 'Maxwell Lewis',\n",
       " 'E.J. Liddell',\n",
       " 'Damian Lillard',\n",
       " 'Dereck Lively II',\n",
       " 'Chris Livingston',\n",
       " 'Kevon Looney',\n",
       " 'Brook Lopez',\n",
       " 'Kevin Love',\n",
       " 'Kyle Lowry',\n",
       " 'Seth Lundy',\n",
       " 'Trey Lyles',\n",
       " 'Sandro Mamukelashvili',\n",
       " 'Terance Mann',\n",
       " 'Tre Mann',\n",
       " 'Lauri Markkanen',\n",
       " 'Naji Marshall',\n",
       " 'Caleb Martin',\n",
       " 'Cody Martin',\n",
       " 'Jaylen Martin',\n",
       " 'KJ Martin',\n",
       " 'Tyrese Martin',\n",
       " 'Garrison Mathews',\n",
       " 'Bennedict Mathurin',\n",
       " 'Karlo Matković',\n",
       " 'Tyrese Maxey',\n",
       " 'Miles McBride',\n",
       " 'Jared McCain',\n",
       " 'Mac McClung',\n",
       " 'CJ McCollum',\n",
       " 'T.J. McConnell',\n",
       " 'Kevin McCullar Jr.',\n",
       " 'Jaden McDaniels',\n",
       " 'Jalen McDaniels',\n",
       " 'Doug McDermott',\n",
       " 'Bryce McGowens',\n",
       " 'Jordan McLaughlin',\n",
       " 'Jack McVeigh',\n",
       " \"De'Anthony Melton\",\n",
       " 'Sam Merrill',\n",
       " 'Vasilije Micić',\n",
       " 'Khris Middleton',\n",
       " 'Brandon Miller',\n",
       " 'Emanuel Miller',\n",
       " 'Jordan Miller',\n",
       " 'Leonard Miller',\n",
       " 'Patty Mills',\n",
       " 'Shake Milton',\n",
       " 'Justin Minaya',\n",
       " 'Riley Minix',\n",
       " 'Josh Minott',\n",
       " 'Yves Missi',\n",
       " 'Ajay Mitchell',\n",
       " 'Davion Mitchell',\n",
       " 'Donovan Mitchell',\n",
       " 'Evan Mobley',\n",
       " 'Jonathan Mogbo',\n",
       " 'Malik Monk',\n",
       " 'Moses Moody',\n",
       " 'Tazé Moore',\n",
       " 'Wendell Moore Jr.',\n",
       " 'Ja Morant',\n",
       " 'Markieff Morris',\n",
       " 'Monté Morris',\n",
       " 'Trey Murphy III',\n",
       " 'Dejounte Murray',\n",
       " 'Jamal Murray',\n",
       " 'Keegan Murray',\n",
       " 'Kris Murray',\n",
       " 'Svi Mykhailiuk',\n",
       " 'Pete Nance',\n",
       " 'Larry Nance Jr.',\n",
       " 'Andrew Nembhard',\n",
       " 'Aaron Nesmith',\n",
       " 'Tristen Newton',\n",
       " 'Georges Niang',\n",
       " 'Daishen Nix',\n",
       " 'Zeke Nnaji',\n",
       " 'Miles Norris',\n",
       " 'Jaylen Nowell',\n",
       " 'Jusuf Nurkić',\n",
       " \"Royce O'Neale\",\n",
       " 'Jahlil Okafor',\n",
       " 'Chuma Okeke',\n",
       " 'Josh Okogie',\n",
       " 'Onyeka Okongwu',\n",
       " 'Isaac Okoro',\n",
       " 'Quincy Olivari',\n",
       " 'Kelly Olynyk',\n",
       " 'Kelly Oubre Jr.',\n",
       " 'Chris Paul',\n",
       " 'Cameron Payne',\n",
       " 'Elfrid Payton',\n",
       " 'Gary Payton II',\n",
       " 'Drew Peterson',\n",
       " 'Julian Phillips',\n",
       " 'Jalen Pickett',\n",
       " 'Scotty Pippen Jr.',\n",
       " 'Daeqwon Plowden',\n",
       " 'Mason Plumlee',\n",
       " 'Brandin Podziemski',\n",
       " 'Jakob Poeltl',\n",
       " 'Jordan Poole',\n",
       " 'Craig Porter Jr.',\n",
       " 'Kevin Porter Jr.',\n",
       " 'Michael Porter Jr.',\n",
       " 'Bobby Portis',\n",
       " 'Kristaps Porziņģis',\n",
       " 'Quinten Post',\n",
       " 'Micah Potter',\n",
       " 'Dwight Powell',\n",
       " 'Norman Powell',\n",
       " 'Taurean Prince',\n",
       " 'Payton Pritchard',\n",
       " 'Olivier-Maxence Prosper',\n",
       " 'Zyon Pullin',\n",
       " 'Trevelin Queen',\n",
       " 'Neemias Queta',\n",
       " 'Immanuel Quickley',\n",
       " 'Lester Quinones',\n",
       " 'Julius Randle',\n",
       " 'Duop Reath',\n",
       " 'Austin Reaves',\n",
       " 'Cam Reddish',\n",
       " 'Paul Reed',\n",
       " 'Alex Reese',\n",
       " 'Antonio Reeves',\n",
       " 'Naz Reid',\n",
       " 'Jared Rhoden',\n",
       " 'Nick Richards',\n",
       " 'Josh Richardson',\n",
       " 'Zaccharie Risacher',\n",
       " 'Liam Robbins',\n",
       " 'Duncan Robinson',\n",
       " 'Mitchell Robinson',\n",
       " 'Orlando Robinson',\n",
       " 'Jeremiah Robinson-Earl',\n",
       " 'David Roddy',\n",
       " 'Ryan Rollins',\n",
       " 'Jackson Rowe',\n",
       " 'Terry Rozier',\n",
       " 'Rayan Rupert',\n",
       " \"D'Angelo Russell\",\n",
       " 'Matt Ryan',\n",
       " 'Domantas Sabonis',\n",
       " 'Tidjane Salaün',\n",
       " 'Adama Sanogo',\n",
       " 'Gui Santos',\n",
       " 'Alex Sarr',\n",
       " 'Marcus Sasser',\n",
       " 'Baylor Scheierman',\n",
       " 'Dennis Schröder',\n",
       " 'Alperen Sengun',\n",
       " 'Brice Sensabaugh',\n",
       " 'Collin Sexton',\n",
       " 'Landry Shamet',\n",
       " 'Terrence Shannon Jr.',\n",
       " \"Day'Ron Sharpe\",\n",
       " 'Shaedon Sharpe',\n",
       " 'Jamal Shead',\n",
       " 'Ben Sheppard',\n",
       " 'Reed Sheppard',\n",
       " 'Pascal Siakam',\n",
       " 'Ben Simmons',\n",
       " 'Anfernee Simons',\n",
       " 'KJ Simpson',\n",
       " 'Jericho Sims',\n",
       " 'Marcus Smart',\n",
       " 'Dru Smith',\n",
       " 'Jalen Smith',\n",
       " 'Tolu Smith',\n",
       " 'Tyler Smith',\n",
       " 'Jabari Smith Jr.',\n",
       " 'Nick Smith Jr.',\n",
       " 'Jeremy Sochan',\n",
       " 'Cam Spencer',\n",
       " 'Pat Spencer',\n",
       " 'Jaden Springer',\n",
       " 'Isaiah Stevens',\n",
       " 'Lamar Stevens',\n",
       " 'Isaiah Stewart',\n",
       " 'Julian Strawther',\n",
       " 'Max Strus',\n",
       " 'Jalen Suggs',\n",
       " 'Cole Swider',\n",
       " \"Jae'Sean Tate\",\n",
       " 'Jayson Tatum',\n",
       " 'Terry Taylor',\n",
       " 'Garrett Temple',\n",
       " 'Dalen Terry',\n",
       " 'Daniel Theis',\n",
       " 'Cam Thomas',\n",
       " 'Amen Thompson',\n",
       " 'Ausar Thompson',\n",
       " 'Ethan Thompson',\n",
       " 'Klay Thompson',\n",
       " 'Tristan Thompson',\n",
       " 'JT Thor',\n",
       " 'Matisse Thybulle',\n",
       " 'Xavier Tillman',\n",
       " 'Drew Timme',\n",
       " \"Nae'Qwan Tomlin\",\n",
       " 'Nikola Topić',\n",
       " 'Jacob Toppin',\n",
       " 'Obi Toppin',\n",
       " 'Karl-Anthony Towns',\n",
       " 'Armel Traoré',\n",
       " 'Luke Travers',\n",
       " 'Gary Trent Jr.',\n",
       " 'Oscar Tshiebwe',\n",
       " 'P.J. Tucker',\n",
       " 'Myles Turner',\n",
       " 'Hunter Tyson',\n",
       " 'Jaylon Tyson',\n",
       " 'Stanley Umude',\n",
       " 'Jonas Valančiūnas',\n",
       " 'Fred VanVleet',\n",
       " 'Jarred Vanderbilt',\n",
       " 'Devin Vassell',\n",
       " 'Gabe Vincent',\n",
       " 'Tristan Vukcevic',\n",
       " 'Nikola Vučević',\n",
       " 'Dean Wade',\n",
       " 'Franz Wagner',\n",
       " 'Moritz Wagner',\n",
       " 'Jabari Walker',\n",
       " 'Jarace Walker',\n",
       " 'Lonnie Walker IV',\n",
       " 'Cason Wallace',\n",
       " 'Keaton Wallace',\n",
       " 'Jordan Walsh',\n",
       " \"Ja'Kobe Walter\",\n",
       " \"Kel'el Ware\",\n",
       " 'P.J. Washington',\n",
       " 'TyTy Washington Jr.',\n",
       " 'Lindy Waters III',\n",
       " 'Trendon Watford',\n",
       " 'Anton Watson',\n",
       " 'Peyton Watson',\n",
       " 'Jaylen Wells',\n",
       " 'Victor Wembanyama',\n",
       " 'Blake Wesley',\n",
       " 'Russell Westbrook',\n",
       " 'Phillip Wheeler',\n",
       " 'Coby White',\n",
       " 'Derrick White',\n",
       " 'Dariq Whitehead',\n",
       " 'Cam Whitmore',\n",
       " 'Aaron Wiggins',\n",
       " 'Andrew Wiggins',\n",
       " 'Alondes Williams',\n",
       " 'Brandon Williams',\n",
       " 'Cody Williams',\n",
       " 'Grant Williams',\n",
       " 'Jalen Williams',\n",
       " 'Jaylin Williams',\n",
       " 'Kenrich Williams',\n",
       " 'Mark Williams',\n",
       " 'Nate Williams',\n",
       " 'Patrick Williams',\n",
       " 'Ziaire Williams',\n",
       " 'Robert Williams III',\n",
       " 'Vince Williams Jr.',\n",
       " 'Zion Williamson',\n",
       " 'Jalen Wilson',\n",
       " 'James Wiseman',\n",
       " 'Isaiah Wong',\n",
       " 'Delon Wright',\n",
       " 'Guerschon Yabusele',\n",
       " 'Cui Yongxi',\n",
       " 'Jahmir Young',\n",
       " 'Trae Young',\n",
       " 'Ivica Zubac',\n",
       " 'Tristan da Silva',\n",
       " 'Vlatko Čančar',\n",
       " 'Dario Šarić']"
      ]
     },
     "execution_count": 6,
     "metadata": {},
     "output_type": "execute_result"
    }
   ],
   "source": [
    "active_players = find_active_players()\n",
    "active_players"
   ]
  },
  {
   "cell_type": "code",
   "execution_count": 7,
   "id": "c0fe7444",
   "metadata": {},
   "outputs": [],
   "source": [
    "def stats_players(nom, active_players, season):\n",
    "    if nom in active_players:\n",
    "            player_sheet = players.find_players_by_full_name(nom)[0]\n",
    "            player_id = player_sheet[\"id\"]\n",
    "            stats = PlayerGameLog(player_id=player_id,season=season)\n",
    "            result = stats.get_data_frames()[0]\n",
    "    else:\n",
    "          print(f\"Le joueur {nom} n'est pas actif ou n'existe pas \")\n",
    "          return None\n",
    "    return result\n",
    "\n",
    "    "
   ]
  },
  {
   "cell_type": "code",
   "execution_count": 8,
   "id": "be6fbabd",
   "metadata": {},
   "outputs": [
    {
     "data": {
      "text/html": [
       "<div>\n",
       "<style scoped>\n",
       "    .dataframe tbody tr th:only-of-type {\n",
       "        vertical-align: middle;\n",
       "    }\n",
       "\n",
       "    .dataframe tbody tr th {\n",
       "        vertical-align: top;\n",
       "    }\n",
       "\n",
       "    .dataframe thead th {\n",
       "        text-align: right;\n",
       "    }\n",
       "</style>\n",
       "<table border=\"1\" class=\"dataframe\">\n",
       "  <thead>\n",
       "    <tr style=\"text-align: right;\">\n",
       "      <th></th>\n",
       "      <th>SEASON_ID</th>\n",
       "      <th>Player_ID</th>\n",
       "      <th>Game_ID</th>\n",
       "      <th>GAME_DATE</th>\n",
       "      <th>MATCHUP</th>\n",
       "      <th>WL</th>\n",
       "      <th>MIN</th>\n",
       "      <th>FGM</th>\n",
       "      <th>FGA</th>\n",
       "      <th>FG_PCT</th>\n",
       "      <th>...</th>\n",
       "      <th>DREB</th>\n",
       "      <th>REB</th>\n",
       "      <th>AST</th>\n",
       "      <th>STL</th>\n",
       "      <th>BLK</th>\n",
       "      <th>TOV</th>\n",
       "      <th>PF</th>\n",
       "      <th>PTS</th>\n",
       "      <th>PLUS_MINUS</th>\n",
       "      <th>VIDEO_AVAILABLE</th>\n",
       "    </tr>\n",
       "  </thead>\n",
       "  <tbody>\n",
       "    <tr>\n",
       "      <th>0</th>\n",
       "      <td>22023</td>\n",
       "      <td>201939</td>\n",
       "      <td>0022301182</td>\n",
       "      <td>Apr 12, 2024</td>\n",
       "      <td>GSW vs. NOP</td>\n",
       "      <td>L</td>\n",
       "      <td>32</td>\n",
       "      <td>12</td>\n",
       "      <td>23</td>\n",
       "      <td>0.522</td>\n",
       "      <td>...</td>\n",
       "      <td>4</td>\n",
       "      <td>4</td>\n",
       "      <td>5</td>\n",
       "      <td>1</td>\n",
       "      <td>0</td>\n",
       "      <td>7</td>\n",
       "      <td>2</td>\n",
       "      <td>33</td>\n",
       "      <td>-8</td>\n",
       "      <td>1</td>\n",
       "    </tr>\n",
       "    <tr>\n",
       "      <th>1</th>\n",
       "      <td>22023</td>\n",
       "      <td>201939</td>\n",
       "      <td>0022301169</td>\n",
       "      <td>Apr 11, 2024</td>\n",
       "      <td>GSW @ POR</td>\n",
       "      <td>W</td>\n",
       "      <td>36</td>\n",
       "      <td>8</td>\n",
       "      <td>22</td>\n",
       "      <td>0.364</td>\n",
       "      <td>...</td>\n",
       "      <td>7</td>\n",
       "      <td>7</td>\n",
       "      <td>8</td>\n",
       "      <td>1</td>\n",
       "      <td>2</td>\n",
       "      <td>2</td>\n",
       "      <td>0</td>\n",
       "      <td>22</td>\n",
       "      <td>7</td>\n",
       "      <td>1</td>\n",
       "    </tr>\n",
       "    <tr>\n",
       "      <th>2</th>\n",
       "      <td>22023</td>\n",
       "      <td>201939</td>\n",
       "      <td>0022301155</td>\n",
       "      <td>Apr 09, 2024</td>\n",
       "      <td>GSW @ LAL</td>\n",
       "      <td>W</td>\n",
       "      <td>32</td>\n",
       "      <td>7</td>\n",
       "      <td>9</td>\n",
       "      <td>0.778</td>\n",
       "      <td>...</td>\n",
       "      <td>7</td>\n",
       "      <td>7</td>\n",
       "      <td>8</td>\n",
       "      <td>1</td>\n",
       "      <td>2</td>\n",
       "      <td>1</td>\n",
       "      <td>2</td>\n",
       "      <td>23</td>\n",
       "      <td>13</td>\n",
       "      <td>1</td>\n",
       "    </tr>\n",
       "    <tr>\n",
       "      <th>3</th>\n",
       "      <td>22023</td>\n",
       "      <td>201939</td>\n",
       "      <td>0022301097</td>\n",
       "      <td>Apr 05, 2024</td>\n",
       "      <td>GSW @ DAL</td>\n",
       "      <td>L</td>\n",
       "      <td>35</td>\n",
       "      <td>9</td>\n",
       "      <td>23</td>\n",
       "      <td>0.391</td>\n",
       "      <td>...</td>\n",
       "      <td>5</td>\n",
       "      <td>6</td>\n",
       "      <td>5</td>\n",
       "      <td>1</td>\n",
       "      <td>0</td>\n",
       "      <td>2</td>\n",
       "      <td>2</td>\n",
       "      <td>28</td>\n",
       "      <td>-5</td>\n",
       "      <td>1</td>\n",
       "    </tr>\n",
       "    <tr>\n",
       "      <th>4</th>\n",
       "      <td>22023</td>\n",
       "      <td>201939</td>\n",
       "      <td>0022301113</td>\n",
       "      <td>Apr 04, 2024</td>\n",
       "      <td>GSW @ HOU</td>\n",
       "      <td>W</td>\n",
       "      <td>31</td>\n",
       "      <td>9</td>\n",
       "      <td>14</td>\n",
       "      <td>0.643</td>\n",
       "      <td>...</td>\n",
       "      <td>6</td>\n",
       "      <td>6</td>\n",
       "      <td>6</td>\n",
       "      <td>0</td>\n",
       "      <td>0</td>\n",
       "      <td>3</td>\n",
       "      <td>2</td>\n",
       "      <td>29</td>\n",
       "      <td>29</td>\n",
       "      <td>1</td>\n",
       "    </tr>\n",
       "    <tr>\n",
       "      <th>...</th>\n",
       "      <td>...</td>\n",
       "      <td>...</td>\n",
       "      <td>...</td>\n",
       "      <td>...</td>\n",
       "      <td>...</td>\n",
       "      <td>...</td>\n",
       "      <td>...</td>\n",
       "      <td>...</td>\n",
       "      <td>...</td>\n",
       "      <td>...</td>\n",
       "      <td>...</td>\n",
       "      <td>...</td>\n",
       "      <td>...</td>\n",
       "      <td>...</td>\n",
       "      <td>...</td>\n",
       "      <td>...</td>\n",
       "      <td>...</td>\n",
       "      <td>...</td>\n",
       "      <td>...</td>\n",
       "      <td>...</td>\n",
       "      <td>...</td>\n",
       "    </tr>\n",
       "    <tr>\n",
       "      <th>69</th>\n",
       "      <td>22023</td>\n",
       "      <td>201939</td>\n",
       "      <td>0022300126</td>\n",
       "      <td>Nov 01, 2023</td>\n",
       "      <td>GSW vs. SAC</td>\n",
       "      <td>W</td>\n",
       "      <td>32</td>\n",
       "      <td>7</td>\n",
       "      <td>15</td>\n",
       "      <td>0.467</td>\n",
       "      <td>...</td>\n",
       "      <td>4</td>\n",
       "      <td>5</td>\n",
       "      <td>3</td>\n",
       "      <td>0</td>\n",
       "      <td>0</td>\n",
       "      <td>7</td>\n",
       "      <td>3</td>\n",
       "      <td>21</td>\n",
       "      <td>-6</td>\n",
       "      <td>1</td>\n",
       "    </tr>\n",
       "    <tr>\n",
       "      <th>70</th>\n",
       "      <td>22023</td>\n",
       "      <td>201939</td>\n",
       "      <td>0022300108</td>\n",
       "      <td>Oct 30, 2023</td>\n",
       "      <td>GSW @ NOP</td>\n",
       "      <td>W</td>\n",
       "      <td>30</td>\n",
       "      <td>15</td>\n",
       "      <td>22</td>\n",
       "      <td>0.682</td>\n",
       "      <td>...</td>\n",
       "      <td>5</td>\n",
       "      <td>5</td>\n",
       "      <td>5</td>\n",
       "      <td>2</td>\n",
       "      <td>0</td>\n",
       "      <td>3</td>\n",
       "      <td>1</td>\n",
       "      <td>42</td>\n",
       "      <td>13</td>\n",
       "      <td>1</td>\n",
       "    </tr>\n",
       "    <tr>\n",
       "      <th>71</th>\n",
       "      <td>22023</td>\n",
       "      <td>201939</td>\n",
       "      <td>0022300096</td>\n",
       "      <td>Oct 29, 2023</td>\n",
       "      <td>GSW @ HOU</td>\n",
       "      <td>W</td>\n",
       "      <td>31</td>\n",
       "      <td>6</td>\n",
       "      <td>16</td>\n",
       "      <td>0.375</td>\n",
       "      <td>...</td>\n",
       "      <td>6</td>\n",
       "      <td>7</td>\n",
       "      <td>6</td>\n",
       "      <td>0</td>\n",
       "      <td>1</td>\n",
       "      <td>1</td>\n",
       "      <td>1</td>\n",
       "      <td>24</td>\n",
       "      <td>-2</td>\n",
       "      <td>1</td>\n",
       "    </tr>\n",
       "    <tr>\n",
       "      <th>72</th>\n",
       "      <td>22023</td>\n",
       "      <td>201939</td>\n",
       "      <td>0022300087</td>\n",
       "      <td>Oct 27, 2023</td>\n",
       "      <td>GSW @ SAC</td>\n",
       "      <td>W</td>\n",
       "      <td>35</td>\n",
       "      <td>14</td>\n",
       "      <td>19</td>\n",
       "      <td>0.737</td>\n",
       "      <td>...</td>\n",
       "      <td>3</td>\n",
       "      <td>4</td>\n",
       "      <td>4</td>\n",
       "      <td>2</td>\n",
       "      <td>0</td>\n",
       "      <td>4</td>\n",
       "      <td>0</td>\n",
       "      <td>41</td>\n",
       "      <td>10</td>\n",
       "      <td>1</td>\n",
       "    </tr>\n",
       "    <tr>\n",
       "      <th>73</th>\n",
       "      <td>22023</td>\n",
       "      <td>201939</td>\n",
       "      <td>0022300062</td>\n",
       "      <td>Oct 24, 2023</td>\n",
       "      <td>GSW vs. PHX</td>\n",
       "      <td>L</td>\n",
       "      <td>31</td>\n",
       "      <td>8</td>\n",
       "      <td>20</td>\n",
       "      <td>0.400</td>\n",
       "      <td>...</td>\n",
       "      <td>4</td>\n",
       "      <td>5</td>\n",
       "      <td>1</td>\n",
       "      <td>1</td>\n",
       "      <td>0</td>\n",
       "      <td>2</td>\n",
       "      <td>5</td>\n",
       "      <td>27</td>\n",
       "      <td>-9</td>\n",
       "      <td>1</td>\n",
       "    </tr>\n",
       "  </tbody>\n",
       "</table>\n",
       "<p>74 rows × 27 columns</p>\n",
       "</div>"
      ],
      "text/plain": [
       "   SEASON_ID  Player_ID     Game_ID     GAME_DATE      MATCHUP WL  MIN  FGM  \\\n",
       "0      22023     201939  0022301182  Apr 12, 2024  GSW vs. NOP  L   32   12   \n",
       "1      22023     201939  0022301169  Apr 11, 2024    GSW @ POR  W   36    8   \n",
       "2      22023     201939  0022301155  Apr 09, 2024    GSW @ LAL  W   32    7   \n",
       "3      22023     201939  0022301097  Apr 05, 2024    GSW @ DAL  L   35    9   \n",
       "4      22023     201939  0022301113  Apr 04, 2024    GSW @ HOU  W   31    9   \n",
       "..       ...        ...         ...           ...          ... ..  ...  ...   \n",
       "69     22023     201939  0022300126  Nov 01, 2023  GSW vs. SAC  W   32    7   \n",
       "70     22023     201939  0022300108  Oct 30, 2023    GSW @ NOP  W   30   15   \n",
       "71     22023     201939  0022300096  Oct 29, 2023    GSW @ HOU  W   31    6   \n",
       "72     22023     201939  0022300087  Oct 27, 2023    GSW @ SAC  W   35   14   \n",
       "73     22023     201939  0022300062  Oct 24, 2023  GSW vs. PHX  L   31    8   \n",
       "\n",
       "    FGA  FG_PCT  ...  DREB  REB  AST  STL  BLK  TOV  PF  PTS  PLUS_MINUS  \\\n",
       "0    23   0.522  ...     4    4    5    1    0    7   2   33          -8   \n",
       "1    22   0.364  ...     7    7    8    1    2    2   0   22           7   \n",
       "2     9   0.778  ...     7    7    8    1    2    1   2   23          13   \n",
       "3    23   0.391  ...     5    6    5    1    0    2   2   28          -5   \n",
       "4    14   0.643  ...     6    6    6    0    0    3   2   29          29   \n",
       "..  ...     ...  ...   ...  ...  ...  ...  ...  ...  ..  ...         ...   \n",
       "69   15   0.467  ...     4    5    3    0    0    7   3   21          -6   \n",
       "70   22   0.682  ...     5    5    5    2    0    3   1   42          13   \n",
       "71   16   0.375  ...     6    7    6    0    1    1   1   24          -2   \n",
       "72   19   0.737  ...     3    4    4    2    0    4   0   41          10   \n",
       "73   20   0.400  ...     4    5    1    1    0    2   5   27          -9   \n",
       "\n",
       "    VIDEO_AVAILABLE  \n",
       "0                 1  \n",
       "1                 1  \n",
       "2                 1  \n",
       "3                 1  \n",
       "4                 1  \n",
       "..              ...  \n",
       "69                1  \n",
       "70                1  \n",
       "71                1  \n",
       "72                1  \n",
       "73                1  \n",
       "\n",
       "[74 rows x 27 columns]"
      ]
     },
     "execution_count": 8,
     "metadata": {},
     "output_type": "execute_result"
    }
   ],
   "source": [
    "stats_players(\"Stephen Curry\", active_players,\"2023-24\")\n"
   ]
  },
  {
   "cell_type": "markdown",
   "id": "265548b3",
   "metadata": {},
   "source": [
    "# heatmap shoot"
   ]
  },
  {
   "cell_type": "code",
   "execution_count": 9,
   "id": "ff7030a1",
   "metadata": {},
   "outputs": [
    {
     "ename": "_IncompleteInputError",
     "evalue": "incomplete input (194624145.py, line 1)",
     "output_type": "error",
     "traceback": [
      "  \u001b[36mCell\u001b[39m\u001b[36m \u001b[39m\u001b[32mIn[9]\u001b[39m\u001b[32m, line 1\u001b[39m\n\u001b[31m    \u001b[39m\u001b[31mdef get_shot_data(nom_joueur,saison):\u001b[39m\n                                         ^\n\u001b[31m_IncompleteInputError\u001b[39m\u001b[31m:\u001b[39m incomplete input\n"
     ]
    }
   ],
   "source": [
    "def get_shot_data(nom_joueur,saison):"
   ]
  },
  {
   "cell_type": "code",
   "execution_count": 11,
   "id": "9f7b5ee4",
   "metadata": {},
   "outputs": [],
   "source": [
    "curry = players.find_players_by_full_name(\"Stephen Curry\")[0]\n",
    "player_id = curry[\"id\"]"
   ]
  },
  {
   "cell_type": "code",
   "execution_count": 12,
   "id": "22ec19a4",
   "metadata": {},
   "outputs": [
    {
     "data": {
      "text/plain": [
       "np.int64(1610612744)"
      ]
     },
     "execution_count": 12,
     "metadata": {},
     "output_type": "execute_result"
    }
   ],
   "source": [
    "info = CommonPlayerInfo(player_id=player_id)\n",
    "team_id = info.get_data_frames()[0]['TEAM_ID'].values[0]\n",
    "team_id\n"
   ]
  },
  {
   "cell_type": "code",
   "execution_count": 13,
   "id": "4c797be3",
   "metadata": {},
   "outputs": [
    {
     "name": "stdout",
     "output_type": "stream",
     "text": [
      "Help on class ShotChartDetail in module nba_api.stats.endpoints.shotchartdetail:\n",
      "\n",
      "class ShotChartDetail(nba_api.stats.endpoints._base.Endpoint)\n",
      " |  ShotChartDetail(\n",
      " |      team_id,\n",
      " |      player_id,\n",
      " |      context_measure_simple='PTS',\n",
      " |      last_n_games='0',\n",
      " |      league_id='00',\n",
      " |      month='0',\n",
      " |      opponent_team_id=0,\n",
      " |      period='0',\n",
      " |      season_type_all_star='Regular Season',\n",
      " |      ahead_behind_nullable='',\n",
      " |      clutch_time_nullable='',\n",
      " |      context_filter_nullable='',\n",
      " |      date_from_nullable='',\n",
      " |      date_to_nullable='',\n",
      " |      end_period_nullable='',\n",
      " |      end_range_nullable='',\n",
      " |      game_id_nullable='',\n",
      " |      game_segment_nullable='',\n",
      " |      location_nullable='',\n",
      " |      outcome_nullable='',\n",
      " |      player_position_nullable='',\n",
      " |      point_diff_nullable='',\n",
      " |      position_nullable='',\n",
      " |      range_type_nullable='',\n",
      " |      rookie_year_nullable='',\n",
      " |      season_nullable='',\n",
      " |      season_segment_nullable='',\n",
      " |      start_period_nullable='',\n",
      " |      start_range_nullable='',\n",
      " |      vs_conference_nullable='',\n",
      " |      vs_division_nullable='',\n",
      " |      proxy=None,\n",
      " |      headers=None,\n",
      " |      timeout=30,\n",
      " |      get_request=True\n",
      " |  )\n",
      " |\n",
      " |  Method resolution order:\n",
      " |      ShotChartDetail\n",
      " |      nba_api.stats.endpoints._base.Endpoint\n",
      " |      builtins.object\n",
      " |\n",
      " |  Methods defined here:\n",
      " |\n",
      " |  __init__(\n",
      " |      self,\n",
      " |      team_id,\n",
      " |      player_id,\n",
      " |      context_measure_simple='PTS',\n",
      " |      last_n_games='0',\n",
      " |      league_id='00',\n",
      " |      month='0',\n",
      " |      opponent_team_id=0,\n",
      " |      period='0',\n",
      " |      season_type_all_star='Regular Season',\n",
      " |      ahead_behind_nullable='',\n",
      " |      clutch_time_nullable='',\n",
      " |      context_filter_nullable='',\n",
      " |      date_from_nullable='',\n",
      " |      date_to_nullable='',\n",
      " |      end_period_nullable='',\n",
      " |      end_range_nullable='',\n",
      " |      game_id_nullable='',\n",
      " |      game_segment_nullable='',\n",
      " |      location_nullable='',\n",
      " |      outcome_nullable='',\n",
      " |      player_position_nullable='',\n",
      " |      point_diff_nullable='',\n",
      " |      position_nullable='',\n",
      " |      range_type_nullable='',\n",
      " |      rookie_year_nullable='',\n",
      " |      season_nullable='',\n",
      " |      season_segment_nullable='',\n",
      " |      start_period_nullable='',\n",
      " |      start_range_nullable='',\n",
      " |      vs_conference_nullable='',\n",
      " |      vs_division_nullable='',\n",
      " |      proxy=None,\n",
      " |      headers=None,\n",
      " |      timeout=30,\n",
      " |      get_request=True\n",
      " |  )\n",
      " |      Initialize self.  See help(type(self)) for accurate signature.\n",
      " |\n",
      " |  get_request(self)\n",
      " |\n",
      " |  load_response(self)\n",
      " |\n",
      " |  ----------------------------------------------------------------------\n",
      " |  Data and other attributes defined here:\n",
      " |\n",
      " |  data_sets = None\n",
      " |\n",
      " |  endpoint = 'shotchartdetail'\n",
      " |\n",
      " |  expected_data = {'LeagueAverages': ['GRID_TYPE', 'SHOT_ZONE_BASIC', 'S...\n",
      " |\n",
      " |  headers = None\n",
      " |\n",
      " |  nba_response = None\n",
      " |\n",
      " |  player_stats = None\n",
      " |\n",
      " |  team_stats = None\n",
      " |\n",
      " |  ----------------------------------------------------------------------\n",
      " |  Methods inherited from nba_api.stats.endpoints._base.Endpoint:\n",
      " |\n",
      " |  get_available_data(self)\n",
      " |\n",
      " |  get_data_frames(self)\n",
      " |\n",
      " |  get_dict(self)\n",
      " |\n",
      " |  get_json(self)\n",
      " |\n",
      " |  get_normalized_dict(self)\n",
      " |\n",
      " |  get_normalized_json(self)\n",
      " |\n",
      " |  get_request_url(self)\n",
      " |\n",
      " |  get_response(self)\n",
      " |\n",
      " |  ----------------------------------------------------------------------\n",
      " |  Data descriptors inherited from nba_api.stats.endpoints._base.Endpoint:\n",
      " |\n",
      " |  __dict__\n",
      " |      dictionary for instance variables\n",
      " |\n",
      " |  __weakref__\n",
      " |      list of weak references to the object\n",
      " |\n",
      " |  ----------------------------------------------------------------------\n",
      " |  Data and other attributes inherited from nba_api.stats.endpoints._base.Endpoint:\n",
      " |\n",
      " |  DataSet = <class 'nba_api.stats.endpoints._base.Endpoint.DataSet'>\n",
      "\n"
     ]
    }
   ],
   "source": [
    "help(ShotChartDetail)"
   ]
  },
  {
   "cell_type": "code",
   "execution_count": 14,
   "id": "9c1b84a0",
   "metadata": {},
   "outputs": [
    {
     "data": {
      "text/html": [
       "<div>\n",
       "<style scoped>\n",
       "    .dataframe tbody tr th:only-of-type {\n",
       "        vertical-align: middle;\n",
       "    }\n",
       "\n",
       "    .dataframe tbody tr th {\n",
       "        vertical-align: top;\n",
       "    }\n",
       "\n",
       "    .dataframe thead th {\n",
       "        text-align: right;\n",
       "    }\n",
       "</style>\n",
       "<table border=\"1\" class=\"dataframe\">\n",
       "  <thead>\n",
       "    <tr style=\"text-align: right;\">\n",
       "      <th></th>\n",
       "      <th>GRID_TYPE</th>\n",
       "      <th>GAME_ID</th>\n",
       "      <th>GAME_EVENT_ID</th>\n",
       "      <th>PLAYER_ID</th>\n",
       "      <th>PLAYER_NAME</th>\n",
       "      <th>TEAM_ID</th>\n",
       "      <th>TEAM_NAME</th>\n",
       "      <th>PERIOD</th>\n",
       "      <th>MINUTES_REMAINING</th>\n",
       "      <th>SECONDS_REMAINING</th>\n",
       "      <th>...</th>\n",
       "      <th>SHOT_ZONE_AREA</th>\n",
       "      <th>SHOT_ZONE_RANGE</th>\n",
       "      <th>SHOT_DISTANCE</th>\n",
       "      <th>LOC_X</th>\n",
       "      <th>LOC_Y</th>\n",
       "      <th>SHOT_ATTEMPTED_FLAG</th>\n",
       "      <th>SHOT_MADE_FLAG</th>\n",
       "      <th>GAME_DATE</th>\n",
       "      <th>HTM</th>\n",
       "      <th>VTM</th>\n",
       "    </tr>\n",
       "  </thead>\n",
       "  <tbody>\n",
       "    <tr>\n",
       "      <th>0</th>\n",
       "      <td>Shot Chart Detail</td>\n",
       "      <td>0022200002</td>\n",
       "      <td>61</td>\n",
       "      <td>201939</td>\n",
       "      <td>Stephen Curry</td>\n",
       "      <td>1610612744</td>\n",
       "      <td>Golden State Warriors</td>\n",
       "      <td>1</td>\n",
       "      <td>7</td>\n",
       "      <td>27</td>\n",
       "      <td>...</td>\n",
       "      <td>Center(C)</td>\n",
       "      <td>Less Than 8 ft.</td>\n",
       "      <td>6</td>\n",
       "      <td>60</td>\n",
       "      <td>10</td>\n",
       "      <td>1</td>\n",
       "      <td>0</td>\n",
       "      <td>20221018</td>\n",
       "      <td>GSW</td>\n",
       "      <td>LAL</td>\n",
       "    </tr>\n",
       "    <tr>\n",
       "      <th>1</th>\n",
       "      <td>Shot Chart Detail</td>\n",
       "      <td>0022200002</td>\n",
       "      <td>64</td>\n",
       "      <td>201939</td>\n",
       "      <td>Stephen Curry</td>\n",
       "      <td>1610612744</td>\n",
       "      <td>Golden State Warriors</td>\n",
       "      <td>1</td>\n",
       "      <td>7</td>\n",
       "      <td>22</td>\n",
       "      <td>...</td>\n",
       "      <td>Right Side(R)</td>\n",
       "      <td>16-24 ft.</td>\n",
       "      <td>16</td>\n",
       "      <td>150</td>\n",
       "      <td>79</td>\n",
       "      <td>1</td>\n",
       "      <td>1</td>\n",
       "      <td>20221018</td>\n",
       "      <td>GSW</td>\n",
       "      <td>LAL</td>\n",
       "    </tr>\n",
       "    <tr>\n",
       "      <th>2</th>\n",
       "      <td>Shot Chart Detail</td>\n",
       "      <td>0022200002</td>\n",
       "      <td>68</td>\n",
       "      <td>201939</td>\n",
       "      <td>Stephen Curry</td>\n",
       "      <td>1610612744</td>\n",
       "      <td>Golden State Warriors</td>\n",
       "      <td>1</td>\n",
       "      <td>7</td>\n",
       "      <td>11</td>\n",
       "      <td>...</td>\n",
       "      <td>Center(C)</td>\n",
       "      <td>24+ ft.</td>\n",
       "      <td>27</td>\n",
       "      <td>7</td>\n",
       "      <td>273</td>\n",
       "      <td>1</td>\n",
       "      <td>0</td>\n",
       "      <td>20221018</td>\n",
       "      <td>GSW</td>\n",
       "      <td>LAL</td>\n",
       "    </tr>\n",
       "    <tr>\n",
       "      <th>3</th>\n",
       "      <td>Shot Chart Detail</td>\n",
       "      <td>0022200002</td>\n",
       "      <td>102</td>\n",
       "      <td>201939</td>\n",
       "      <td>Stephen Curry</td>\n",
       "      <td>1610612744</td>\n",
       "      <td>Golden State Warriors</td>\n",
       "      <td>1</td>\n",
       "      <td>5</td>\n",
       "      <td>16</td>\n",
       "      <td>...</td>\n",
       "      <td>Left Side Center(LC)</td>\n",
       "      <td>24+ ft.</td>\n",
       "      <td>24</td>\n",
       "      <td>-151</td>\n",
       "      <td>197</td>\n",
       "      <td>1</td>\n",
       "      <td>0</td>\n",
       "      <td>20221018</td>\n",
       "      <td>GSW</td>\n",
       "      <td>LAL</td>\n",
       "    </tr>\n",
       "    <tr>\n",
       "      <th>4</th>\n",
       "      <td>Shot Chart Detail</td>\n",
       "      <td>0022200002</td>\n",
       "      <td>132</td>\n",
       "      <td>201939</td>\n",
       "      <td>Stephen Curry</td>\n",
       "      <td>1610612744</td>\n",
       "      <td>Golden State Warriors</td>\n",
       "      <td>1</td>\n",
       "      <td>3</td>\n",
       "      <td>52</td>\n",
       "      <td>...</td>\n",
       "      <td>Left Side Center(LC)</td>\n",
       "      <td>24+ ft.</td>\n",
       "      <td>24</td>\n",
       "      <td>-81</td>\n",
       "      <td>229</td>\n",
       "      <td>1</td>\n",
       "      <td>0</td>\n",
       "      <td>20221018</td>\n",
       "      <td>GSW</td>\n",
       "      <td>LAL</td>\n",
       "    </tr>\n",
       "    <tr>\n",
       "      <th>...</th>\n",
       "      <td>...</td>\n",
       "      <td>...</td>\n",
       "      <td>...</td>\n",
       "      <td>...</td>\n",
       "      <td>...</td>\n",
       "      <td>...</td>\n",
       "      <td>...</td>\n",
       "      <td>...</td>\n",
       "      <td>...</td>\n",
       "      <td>...</td>\n",
       "      <td>...</td>\n",
       "      <td>...</td>\n",
       "      <td>...</td>\n",
       "      <td>...</td>\n",
       "      <td>...</td>\n",
       "      <td>...</td>\n",
       "      <td>...</td>\n",
       "      <td>...</td>\n",
       "      <td>...</td>\n",
       "      <td>...</td>\n",
       "      <td>...</td>\n",
       "    </tr>\n",
       "    <tr>\n",
       "      <th>1128</th>\n",
       "      <td>Shot Chart Detail</td>\n",
       "      <td>0022201230</td>\n",
       "      <td>312</td>\n",
       "      <td>201939</td>\n",
       "      <td>Stephen Curry</td>\n",
       "      <td>1610612744</td>\n",
       "      <td>Golden State Warriors</td>\n",
       "      <td>2</td>\n",
       "      <td>1</td>\n",
       "      <td>3</td>\n",
       "      <td>...</td>\n",
       "      <td>Left Side Center(LC)</td>\n",
       "      <td>24+ ft.</td>\n",
       "      <td>28</td>\n",
       "      <td>-172</td>\n",
       "      <td>223</td>\n",
       "      <td>1</td>\n",
       "      <td>0</td>\n",
       "      <td>20230409</td>\n",
       "      <td>POR</td>\n",
       "      <td>GSW</td>\n",
       "    </tr>\n",
       "    <tr>\n",
       "      <th>1129</th>\n",
       "      <td>Shot Chart Detail</td>\n",
       "      <td>0022201230</td>\n",
       "      <td>317</td>\n",
       "      <td>201939</td>\n",
       "      <td>Stephen Curry</td>\n",
       "      <td>1610612744</td>\n",
       "      <td>Golden State Warriors</td>\n",
       "      <td>2</td>\n",
       "      <td>0</td>\n",
       "      <td>32</td>\n",
       "      <td>...</td>\n",
       "      <td>Right Side Center(RC)</td>\n",
       "      <td>24+ ft.</td>\n",
       "      <td>26</td>\n",
       "      <td>121</td>\n",
       "      <td>239</td>\n",
       "      <td>1</td>\n",
       "      <td>1</td>\n",
       "      <td>20230409</td>\n",
       "      <td>POR</td>\n",
       "      <td>GSW</td>\n",
       "    </tr>\n",
       "    <tr>\n",
       "      <th>1130</th>\n",
       "      <td>Shot Chart Detail</td>\n",
       "      <td>0022201230</td>\n",
       "      <td>342</td>\n",
       "      <td>201939</td>\n",
       "      <td>Stephen Curry</td>\n",
       "      <td>1610612744</td>\n",
       "      <td>Golden State Warriors</td>\n",
       "      <td>3</td>\n",
       "      <td>10</td>\n",
       "      <td>48</td>\n",
       "      <td>...</td>\n",
       "      <td>Center(C)</td>\n",
       "      <td>Less Than 8 ft.</td>\n",
       "      <td>3</td>\n",
       "      <td>33</td>\n",
       "      <td>15</td>\n",
       "      <td>1</td>\n",
       "      <td>1</td>\n",
       "      <td>20230409</td>\n",
       "      <td>POR</td>\n",
       "      <td>GSW</td>\n",
       "    </tr>\n",
       "    <tr>\n",
       "      <th>1131</th>\n",
       "      <td>Shot Chart Detail</td>\n",
       "      <td>0022201230</td>\n",
       "      <td>353</td>\n",
       "      <td>201939</td>\n",
       "      <td>Stephen Curry</td>\n",
       "      <td>1610612744</td>\n",
       "      <td>Golden State Warriors</td>\n",
       "      <td>3</td>\n",
       "      <td>10</td>\n",
       "      <td>0</td>\n",
       "      <td>...</td>\n",
       "      <td>Left Side(L)</td>\n",
       "      <td>24+ ft.</td>\n",
       "      <td>23</td>\n",
       "      <td>-225</td>\n",
       "      <td>79</td>\n",
       "      <td>1</td>\n",
       "      <td>1</td>\n",
       "      <td>20230409</td>\n",
       "      <td>POR</td>\n",
       "      <td>GSW</td>\n",
       "    </tr>\n",
       "    <tr>\n",
       "      <th>1132</th>\n",
       "      <td>Shot Chart Detail</td>\n",
       "      <td>0022201230</td>\n",
       "      <td>400</td>\n",
       "      <td>201939</td>\n",
       "      <td>Stephen Curry</td>\n",
       "      <td>1610612744</td>\n",
       "      <td>Golden State Warriors</td>\n",
       "      <td>3</td>\n",
       "      <td>6</td>\n",
       "      <td>27</td>\n",
       "      <td>...</td>\n",
       "      <td>Left Side(L)</td>\n",
       "      <td>24+ ft.</td>\n",
       "      <td>23</td>\n",
       "      <td>-224</td>\n",
       "      <td>79</td>\n",
       "      <td>1</td>\n",
       "      <td>0</td>\n",
       "      <td>20230409</td>\n",
       "      <td>POR</td>\n",
       "      <td>GSW</td>\n",
       "    </tr>\n",
       "  </tbody>\n",
       "</table>\n",
       "<p>1133 rows × 24 columns</p>\n",
       "</div>"
      ],
      "text/plain": [
       "              GRID_TYPE     GAME_ID  GAME_EVENT_ID  PLAYER_ID    PLAYER_NAME  \\\n",
       "0     Shot Chart Detail  0022200002             61     201939  Stephen Curry   \n",
       "1     Shot Chart Detail  0022200002             64     201939  Stephen Curry   \n",
       "2     Shot Chart Detail  0022200002             68     201939  Stephen Curry   \n",
       "3     Shot Chart Detail  0022200002            102     201939  Stephen Curry   \n",
       "4     Shot Chart Detail  0022200002            132     201939  Stephen Curry   \n",
       "...                 ...         ...            ...        ...            ...   \n",
       "1128  Shot Chart Detail  0022201230            312     201939  Stephen Curry   \n",
       "1129  Shot Chart Detail  0022201230            317     201939  Stephen Curry   \n",
       "1130  Shot Chart Detail  0022201230            342     201939  Stephen Curry   \n",
       "1131  Shot Chart Detail  0022201230            353     201939  Stephen Curry   \n",
       "1132  Shot Chart Detail  0022201230            400     201939  Stephen Curry   \n",
       "\n",
       "         TEAM_ID              TEAM_NAME  PERIOD  MINUTES_REMAINING  \\\n",
       "0     1610612744  Golden State Warriors       1                  7   \n",
       "1     1610612744  Golden State Warriors       1                  7   \n",
       "2     1610612744  Golden State Warriors       1                  7   \n",
       "3     1610612744  Golden State Warriors       1                  5   \n",
       "4     1610612744  Golden State Warriors       1                  3   \n",
       "...          ...                    ...     ...                ...   \n",
       "1128  1610612744  Golden State Warriors       2                  1   \n",
       "1129  1610612744  Golden State Warriors       2                  0   \n",
       "1130  1610612744  Golden State Warriors       3                 10   \n",
       "1131  1610612744  Golden State Warriors       3                 10   \n",
       "1132  1610612744  Golden State Warriors       3                  6   \n",
       "\n",
       "      SECONDS_REMAINING  ...         SHOT_ZONE_AREA  SHOT_ZONE_RANGE  \\\n",
       "0                    27  ...              Center(C)  Less Than 8 ft.   \n",
       "1                    22  ...          Right Side(R)        16-24 ft.   \n",
       "2                    11  ...              Center(C)          24+ ft.   \n",
       "3                    16  ...   Left Side Center(LC)          24+ ft.   \n",
       "4                    52  ...   Left Side Center(LC)          24+ ft.   \n",
       "...                 ...  ...                    ...              ...   \n",
       "1128                  3  ...   Left Side Center(LC)          24+ ft.   \n",
       "1129                 32  ...  Right Side Center(RC)          24+ ft.   \n",
       "1130                 48  ...              Center(C)  Less Than 8 ft.   \n",
       "1131                  0  ...           Left Side(L)          24+ ft.   \n",
       "1132                 27  ...           Left Side(L)          24+ ft.   \n",
       "\n",
       "     SHOT_DISTANCE LOC_X LOC_Y SHOT_ATTEMPTED_FLAG  SHOT_MADE_FLAG  GAME_DATE  \\\n",
       "0                6    60    10                   1               0   20221018   \n",
       "1               16   150    79                   1               1   20221018   \n",
       "2               27     7   273                   1               0   20221018   \n",
       "3               24  -151   197                   1               0   20221018   \n",
       "4               24   -81   229                   1               0   20221018   \n",
       "...            ...   ...   ...                 ...             ...        ...   \n",
       "1128            28  -172   223                   1               0   20230409   \n",
       "1129            26   121   239                   1               1   20230409   \n",
       "1130             3    33    15                   1               1   20230409   \n",
       "1131            23  -225    79                   1               1   20230409   \n",
       "1132            23  -224    79                   1               0   20230409   \n",
       "\n",
       "      HTM  VTM  \n",
       "0     GSW  LAL  \n",
       "1     GSW  LAL  \n",
       "2     GSW  LAL  \n",
       "3     GSW  LAL  \n",
       "4     GSW  LAL  \n",
       "...   ...  ...  \n",
       "1128  POR  GSW  \n",
       "1129  POR  GSW  \n",
       "1130  POR  GSW  \n",
       "1131  POR  GSW  \n",
       "1132  POR  GSW  \n",
       "\n",
       "[1133 rows x 24 columns]"
      ]
     },
     "execution_count": 14,
     "metadata": {},
     "output_type": "execute_result"
    }
   ],
   "source": [
    "shot_data = ShotChartDetail(team_id=team_id,player_id=player_id,season_type_all_star='Regular Season',season_nullable='2022-23',context_measure_simple='FGA') \n",
    "df_shots = shot_data.get_data_frames()[0]\n",
    "df_shots"
   ]
  },
  {
   "cell_type": "code",
   "execution_count": 16,
   "id": "9c9306f5",
   "metadata": {},
   "outputs": [
    {
     "data": {
      "text/html": [
       "<div>\n",
       "<style scoped>\n",
       "    .dataframe tbody tr th:only-of-type {\n",
       "        vertical-align: middle;\n",
       "    }\n",
       "\n",
       "    .dataframe tbody tr th {\n",
       "        vertical-align: top;\n",
       "    }\n",
       "\n",
       "    .dataframe thead th {\n",
       "        text-align: right;\n",
       "    }\n",
       "</style>\n",
       "<table border=\"1\" class=\"dataframe\">\n",
       "  <thead>\n",
       "    <tr style=\"text-align: right;\">\n",
       "      <th></th>\n",
       "      <th>LOC_X</th>\n",
       "      <th>LOC_Y</th>\n",
       "      <th>SHOT_ATTEMPTED_FLAG</th>\n",
       "      <th>SHOT_MADE_FLAG</th>\n",
       "      <th>EVENT_TYPE</th>\n",
       "    </tr>\n",
       "  </thead>\n",
       "  <tbody>\n",
       "    <tr>\n",
       "      <th>0</th>\n",
       "      <td>60</td>\n",
       "      <td>10</td>\n",
       "      <td>1</td>\n",
       "      <td>0</td>\n",
       "      <td>Missed Shot</td>\n",
       "    </tr>\n",
       "    <tr>\n",
       "      <th>1</th>\n",
       "      <td>150</td>\n",
       "      <td>79</td>\n",
       "      <td>1</td>\n",
       "      <td>1</td>\n",
       "      <td>Made Shot</td>\n",
       "    </tr>\n",
       "    <tr>\n",
       "      <th>2</th>\n",
       "      <td>7</td>\n",
       "      <td>273</td>\n",
       "      <td>1</td>\n",
       "      <td>0</td>\n",
       "      <td>Missed Shot</td>\n",
       "    </tr>\n",
       "    <tr>\n",
       "      <th>3</th>\n",
       "      <td>-151</td>\n",
       "      <td>197</td>\n",
       "      <td>1</td>\n",
       "      <td>0</td>\n",
       "      <td>Missed Shot</td>\n",
       "    </tr>\n",
       "    <tr>\n",
       "      <th>4</th>\n",
       "      <td>-81</td>\n",
       "      <td>229</td>\n",
       "      <td>1</td>\n",
       "      <td>0</td>\n",
       "      <td>Missed Shot</td>\n",
       "    </tr>\n",
       "  </tbody>\n",
       "</table>\n",
       "</div>"
      ],
      "text/plain": [
       "   LOC_X  LOC_Y  SHOT_ATTEMPTED_FLAG  SHOT_MADE_FLAG   EVENT_TYPE\n",
       "0     60     10                    1               0  Missed Shot\n",
       "1    150     79                    1               1    Made Shot\n",
       "2      7    273                    1               0  Missed Shot\n",
       "3   -151    197                    1               0  Missed Shot\n",
       "4    -81    229                    1               0  Missed Shot"
      ]
     },
     "execution_count": 16,
     "metadata": {},
     "output_type": "execute_result"
    }
   ],
   "source": [
    "df_shots[[\"LOC_X\", \"LOC_Y\", \"SHOT_ATTEMPTED_FLAG\", \"SHOT_MADE_FLAG\",\"EVENT_TYPE\"]].head()"
   ]
  },
  {
   "cell_type": "code",
   "execution_count": 38,
   "id": "1e69ace3",
   "metadata": {},
   "outputs": [
    {
     "data": {
      "text/plain": [
       "GRID_TYPE              object\n",
       "GAME_ID                object\n",
       "GAME_EVENT_ID           int64\n",
       "PLAYER_ID               int64\n",
       "PLAYER_NAME            object\n",
       "TEAM_ID                 int64\n",
       "TEAM_NAME              object\n",
       "PERIOD                  int64\n",
       "MINUTES_REMAINING       int64\n",
       "SECONDS_REMAINING       int64\n",
       "EVENT_TYPE             object\n",
       "ACTION_TYPE            object\n",
       "SHOT_TYPE              object\n",
       "SHOT_ZONE_BASIC        object\n",
       "SHOT_ZONE_AREA         object\n",
       "SHOT_ZONE_RANGE        object\n",
       "SHOT_DISTANCE           int64\n",
       "LOC_X                   int64\n",
       "LOC_Y                   int64\n",
       "SHOT_ATTEMPTED_FLAG     int64\n",
       "SHOT_MADE_FLAG          int64\n",
       "GAME_DATE              object\n",
       "HTM                    object\n",
       "VTM                    object\n",
       "dtype: object"
      ]
     },
     "execution_count": 38,
     "metadata": {},
     "output_type": "execute_result"
    }
   ],
   "source": [
    "df_shots[\"SHOT_MADE_FLAG\"].dtype\n",
    "df_shots.dtypes"
   ]
  },
  {
   "cell_type": "code",
   "execution_count": 39,
   "id": "56173a89",
   "metadata": {},
   "outputs": [],
   "source": [
    "df_shots[\"SHOT_MADE_FLAG\"] = df_shots[\"SHOT_MADE_FLAG\"].astype(str)"
   ]
  },
  {
   "cell_type": "code",
   "execution_count": null,
   "id": "a0957389",
   "metadata": {},
   "outputs": [
    {
     "ename": "ValueError",
     "evalue": "Mime type rendering requires nbformat>=4.2.0 but it is not installed",
     "output_type": "error",
     "traceback": [
      "\u001b[31m---------------------------------------------------------------------------\u001b[39m",
      "\u001b[31mValueError\u001b[39m                                Traceback (most recent call last)",
      "\u001b[36mCell\u001b[39m\u001b[36m \u001b[39m\u001b[32mIn[58]\u001b[39m\u001b[32m, line 27\u001b[39m\n\u001b[32m     10\u001b[39m fig.update_yaxes(autorange=\u001b[33m'\u001b[39m\u001b[33mreversed\u001b[39m\u001b[33m'\u001b[39m)\n\u001b[32m     12\u001b[39m fig.add_layout_image(\n\u001b[32m     13\u001b[39m     \u001b[38;5;28mdict\u001b[39m(\n\u001b[32m     14\u001b[39m         source=\u001b[33m\"\u001b[39m\u001b[33m../photo/halfcourt.png\u001b[39m\u001b[33m\"\u001b[39m,  \n\u001b[32m   (...)\u001b[39m\u001b[32m     24\u001b[39m     )\n\u001b[32m     25\u001b[39m )\n\u001b[32m---> \u001b[39m\u001b[32m27\u001b[39m \u001b[43mfig\u001b[49m\u001b[43m.\u001b[49m\u001b[43mshow\u001b[49m\u001b[43m(\u001b[49m\u001b[43m)\u001b[49m\n",
      "\u001b[36mFile \u001b[39m\u001b[32m~/Documents/nba_stats_project/.venv/lib/python3.13/site-packages/plotly/basedatatypes.py:3420\u001b[39m, in \u001b[36mBaseFigure.show\u001b[39m\u001b[34m(self, *args, **kwargs)\u001b[39m\n\u001b[32m   3387\u001b[39m \u001b[38;5;250m\u001b[39m\u001b[33;03m\"\"\"\u001b[39;00m\n\u001b[32m   3388\u001b[39m \u001b[33;03mShow a figure using either the default renderer(s) or the renderer(s)\u001b[39;00m\n\u001b[32m   3389\u001b[39m \u001b[33;03mspecified by the renderer argument\u001b[39;00m\n\u001b[32m   (...)\u001b[39m\u001b[32m   3416\u001b[39m \u001b[33;03mNone\u001b[39;00m\n\u001b[32m   3417\u001b[39m \u001b[33;03m\"\"\"\u001b[39;00m\n\u001b[32m   3418\u001b[39m \u001b[38;5;28;01mimport\u001b[39;00m\u001b[38;5;250m \u001b[39m\u001b[34;01mplotly\u001b[39;00m\u001b[34;01m.\u001b[39;00m\u001b[34;01mio\u001b[39;00m\u001b[38;5;250m \u001b[39m\u001b[38;5;28;01mas\u001b[39;00m\u001b[38;5;250m \u001b[39m\u001b[34;01mpio\u001b[39;00m\n\u001b[32m-> \u001b[39m\u001b[32m3420\u001b[39m \u001b[38;5;28;01mreturn\u001b[39;00m \u001b[43mpio\u001b[49m\u001b[43m.\u001b[49m\u001b[43mshow\u001b[49m\u001b[43m(\u001b[49m\u001b[38;5;28;43mself\u001b[39;49m\u001b[43m,\u001b[49m\u001b[43m \u001b[49m\u001b[43m*\u001b[49m\u001b[43margs\u001b[49m\u001b[43m,\u001b[49m\u001b[43m \u001b[49m\u001b[43m*\u001b[49m\u001b[43m*\u001b[49m\u001b[43mkwargs\u001b[49m\u001b[43m)\u001b[49m\n",
      "\u001b[36mFile \u001b[39m\u001b[32m~/Documents/nba_stats_project/.venv/lib/python3.13/site-packages/plotly/io/_renderers.py:415\u001b[39m, in \u001b[36mshow\u001b[39m\u001b[34m(fig, renderer, validate, **kwargs)\u001b[39m\n\u001b[32m    410\u001b[39m     \u001b[38;5;28;01mraise\u001b[39;00m \u001b[38;5;167;01mValueError\u001b[39;00m(\n\u001b[32m    411\u001b[39m         \u001b[33m\"\u001b[39m\u001b[33mMime type rendering requires ipython but it is not installed\u001b[39m\u001b[33m\"\u001b[39m\n\u001b[32m    412\u001b[39m     )\n\u001b[32m    414\u001b[39m \u001b[38;5;28;01mif\u001b[39;00m \u001b[38;5;129;01mnot\u001b[39;00m nbformat \u001b[38;5;129;01mor\u001b[39;00m Version(nbformat.__version__) < Version(\u001b[33m\"\u001b[39m\u001b[33m4.2.0\u001b[39m\u001b[33m\"\u001b[39m):\n\u001b[32m--> \u001b[39m\u001b[32m415\u001b[39m     \u001b[38;5;28;01mraise\u001b[39;00m \u001b[38;5;167;01mValueError\u001b[39;00m(\n\u001b[32m    416\u001b[39m         \u001b[33m\"\u001b[39m\u001b[33mMime type rendering requires nbformat>=4.2.0 but it is not installed\u001b[39m\u001b[33m\"\u001b[39m\n\u001b[32m    417\u001b[39m     )\n\u001b[32m    419\u001b[39m display_jupyter_version_warnings()\n\u001b[32m    421\u001b[39m ipython_display.display(bundle, raw=\u001b[38;5;28;01mTrue\u001b[39;00m)\n",
      "\u001b[31mValueError\u001b[39m: Mime type rendering requires nbformat>=4.2.0 but it is not installed"
     ]
    }
   ],
   "source": [
    "fig = px.scatter(\n",
    "    data_frame=df_shots,\n",
    "    x=\"LOC_X\",\n",
    "    y=\"LOC_Y\",\n",
    "    color=\"SHOT_MADE_FLAG\",\n",
    "    color_discrete_map={\"0\": \"red\", \"1\": \"green\"},\n",
    "    width=600,\n",
    "    height=700\n",
    ")\n",
    "fig.update_yaxes(autorange='reversed')\n",
    "\n",
    "fig.add_layout_image(\n",
    "    dict(\n",
    "        source=\"../photo/halfcourt.png\",  \n",
    "        xref=\"x\",\n",
    "        yref=\"y\",\n",
    "        x=-250,  \n",
    "        y=200,   \n",
    "        sizex=500, \n",
    "        sizey=500, \n",
    "        sizing=\"stretch\",  \n",
    "        opacity=0.4,       \n",
    "        layer=\"below\"      \n",
    "    )\n",
    ")\n",
    "\n"
   ]
  },
  {
   "cell_type": "code",
   "execution_count": null,
   "id": "b5262271",
   "metadata": {},
   "outputs": [
    {
     "ename": "ValueError",
     "evalue": "Mime type rendering requires nbformat>=4.2.0 but it is not installed",
     "output_type": "error",
     "traceback": [
      "\u001b[31m---------------------------------------------------------------------------\u001b[39m",
      "\u001b[31mValueError\u001b[39m                                Traceback (most recent call last)",
      "\u001b[36mFile \u001b[39m\u001b[32m~/Documents/nba_stats_project/.venv/lib/python3.13/site-packages/IPython/core/formatters.py:984\u001b[39m, in \u001b[36mIPythonDisplayFormatter.__call__\u001b[39m\u001b[34m(self, obj)\u001b[39m\n\u001b[32m    982\u001b[39m method = get_real_method(obj, \u001b[38;5;28mself\u001b[39m.print_method)\n\u001b[32m    983\u001b[39m \u001b[38;5;28;01mif\u001b[39;00m method \u001b[38;5;129;01mis\u001b[39;00m \u001b[38;5;129;01mnot\u001b[39;00m \u001b[38;5;28;01mNone\u001b[39;00m:\n\u001b[32m--> \u001b[39m\u001b[32m984\u001b[39m     \u001b[43mmethod\u001b[49m\u001b[43m(\u001b[49m\u001b[43m)\u001b[49m\n\u001b[32m    985\u001b[39m     \u001b[38;5;28;01mreturn\u001b[39;00m \u001b[38;5;28;01mTrue\u001b[39;00m\n",
      "\u001b[36mFile \u001b[39m\u001b[32m~/Documents/nba_stats_project/.venv/lib/python3.13/site-packages/plotly/basedatatypes.py:850\u001b[39m, in \u001b[36mBaseFigure._ipython_display_\u001b[39m\u001b[34m(self)\u001b[39m\n\u001b[32m    847\u001b[39m \u001b[38;5;28;01mimport\u001b[39;00m\u001b[38;5;250m \u001b[39m\u001b[34;01mplotly\u001b[39;00m\u001b[34;01m.\u001b[39;00m\u001b[34;01mio\u001b[39;00m\u001b[38;5;250m \u001b[39m\u001b[38;5;28;01mas\u001b[39;00m\u001b[38;5;250m \u001b[39m\u001b[34;01mpio\u001b[39;00m\n\u001b[32m    849\u001b[39m \u001b[38;5;28;01mif\u001b[39;00m pio.renderers.render_on_display \u001b[38;5;129;01mand\u001b[39;00m pio.renderers.default:\n\u001b[32m--> \u001b[39m\u001b[32m850\u001b[39m     \u001b[43mpio\u001b[49m\u001b[43m.\u001b[49m\u001b[43mshow\u001b[49m\u001b[43m(\u001b[49m\u001b[38;5;28;43mself\u001b[39;49m\u001b[43m)\u001b[49m\n\u001b[32m    851\u001b[39m \u001b[38;5;28;01melse\u001b[39;00m:\n\u001b[32m    852\u001b[39m     \u001b[38;5;28mprint\u001b[39m(\u001b[38;5;28mrepr\u001b[39m(\u001b[38;5;28mself\u001b[39m))\n",
      "\u001b[36mFile \u001b[39m\u001b[32m~/Documents/nba_stats_project/.venv/lib/python3.13/site-packages/plotly/io/_renderers.py:415\u001b[39m, in \u001b[36mshow\u001b[39m\u001b[34m(fig, renderer, validate, **kwargs)\u001b[39m\n\u001b[32m    410\u001b[39m     \u001b[38;5;28;01mraise\u001b[39;00m \u001b[38;5;167;01mValueError\u001b[39;00m(\n\u001b[32m    411\u001b[39m         \u001b[33m\"\u001b[39m\u001b[33mMime type rendering requires ipython but it is not installed\u001b[39m\u001b[33m\"\u001b[39m\n\u001b[32m    412\u001b[39m     )\n\u001b[32m    414\u001b[39m \u001b[38;5;28;01mif\u001b[39;00m \u001b[38;5;129;01mnot\u001b[39;00m nbformat \u001b[38;5;129;01mor\u001b[39;00m Version(nbformat.__version__) < Version(\u001b[33m\"\u001b[39m\u001b[33m4.2.0\u001b[39m\u001b[33m\"\u001b[39m):\n\u001b[32m--> \u001b[39m\u001b[32m415\u001b[39m     \u001b[38;5;28;01mraise\u001b[39;00m \u001b[38;5;167;01mValueError\u001b[39;00m(\n\u001b[32m    416\u001b[39m         \u001b[33m\"\u001b[39m\u001b[33mMime type rendering requires nbformat>=4.2.0 but it is not installed\u001b[39m\u001b[33m\"\u001b[39m\n\u001b[32m    417\u001b[39m     )\n\u001b[32m    419\u001b[39m display_jupyter_version_warnings()\n\u001b[32m    421\u001b[39m ipython_display.display(bundle, raw=\u001b[38;5;28;01mTrue\u001b[39;00m)\n",
      "\u001b[31mValueError\u001b[39m: Mime type rendering requires nbformat>=4.2.0 but it is not installed"
     ]
    },
    {
     "data": {
      "application/vnd.plotly.v1+json": {
       "config": {
        "plotlyServerURL": "https://plot.ly"
       },
       "data": [
        {
         "hovertemplate": "SHOT_MADE_FLAG=0<br>LOC_X=%{x}<br>LOC_Y=%{y}<extra></extra>",
         "legendgroup": "0",
         "marker": {
          "color": "red",
          "symbol": "circle"
         },
         "mode": "markers",
         "name": "0",
         "showlegend": true,
         "type": "scattergl",
         "x": {
          "bdata": "PAAHAGn/r/+f/6QA6v/gAND/Q/9+/54AqAD5/5cAYwAfAA0Ab/9SACwAHf/b/50ANv/x/xP/UwCf/7X/xACV/+f/NwAzANH/XACJAML/kwDr/00ABADVAP//9/9YAOoA0gD3/zEAYAAbACH/wv8vAGcAnf/V/xAAEgA2APf/rgB+/3YAjwAJAB8Ad//hAB0A5f9mADcACQCzACP/d/9CAFT/2QBd/x8A9P9xALUAGP84AOf/tP9k/+n/XgAaAOH/gv9h/7wA5/9t/+H/DwBi/wIAqv+k//7/DADhAPz/gQBLACD/jf/D/03/3gA1AHT/H/9DAM8AuQA8AOr/iQCXAAkA//8HAOz/MADCABAAvv+cAN7/lP8oAFz/GQCB/x//PABW/7MAo/94/0T/2wAHAB0AJf+J/zUAc/8sAFkAJgBG/4MAAAArABb/OADjAD7/igDUAGT/IgDz/zUAlP82AN4ASAAHAHH/+f+dAHf/QwBSAHwAfADAAJz/jwBgAHwAVv8WABAAd//e/2n/DQCu/wIAiP89/3IALwCTALj/Ev8gAFj/Qf8wAIgAqgAw/wcA4P9U/7AAZAABACwANv9R/9T/S/9SACsA0//T/7X/0f9R//MAQQBAAF4AnwBMAOT/3P+EADcAXP8LALj/xABRAB0A2QDZAEoApP9b/04AGP8QAEYA5/9GABAAkwAzAB3/NQCXAOT/ov8h/x3/QP9Y/+P/LAC3AGb/Gv9R/8gAy//T/+b/tf9hAKj/X/8hALj/IP9o/1gAGv+iAIYAJgA8AIYAzgAhAGYA1P8lAFkAzQCr/3z/Jf+5AEUA9//EAFX///9KANIA3P9U/+MAIgBxAGz/mf/a/5kASf/QACj/cAAoAKcAY/9kAPn/wgDAAPz/CwBdAP//3v/e//z/3//K/x8AlgDTAJIABwBtAFT/ggBOAPr/ygBq/yoAH//x/yUA8/9A/+v/rwBYAIEAdP+Y/yD/7P9NAJz/jAAEAMD/Kv82AOQAWf9KAOT/1f8tAF4AAQDVAJ8AEQCO/+MAiv9Y/5z/PABX/7QAjP/w/4n/Mv8RAAAADAAY/xkAYf9CACEA6/8fAMAA2ABG/3z/CQDs/+T/KAAaAE4A1v+kAPv/zgBDAA8A+/8VAOT/kQAtAHr/rwD8/+z/h/9zACYAf/8i/xUAwwAAAPr/LQD5/wEA//90/wsAjAB0AOv/dgDLAM3/QQASAIEAdgAFAHcAE//0/wQAqQACAKoAAgCsANkAYf+KABcA3wCi/zEAcv/f/9gAKwD5/+sATv8t/3MA6ACIAJgACgBL/4T/RP92ACQA2v9CAOD/bABc/zX/MwDk/5QADwA9AB3/EgDCAA8A3/8hAJ0AigCPAET/+/8XAJcA0P/V/1gA2v/U/yAATADWACYAqAD3/5gAVwD5/4kAEf/L/0j/lADoAB0AGwBu/w8AkgDrAPv/4QBkAC3/z/8CABkA0P9sAHj/RwCaAND/kwCyADUAIAByAOAAV/9cAHcA+/9xADb/CgBX/1T/IP8=",
          "dtype": "i2"
         },
         "xaxis": "x",
         "y": {
          "bdata": "CgARAcUA5QCTALgB9P8zADsBvgDUAMQA5wADAc0ABAFeAGIA1wBaACMAAQAmAIcAogAcAAcAKQD7ABUA6AABASgAtAAfAKsAYADiALoA5gAsABkBdgDPADsBEQEYAf//pgBPAV0ANQE/AOn/8wAkAegAAQEZAYQACAEXAYoAwwDtADoBIQEKAWkA8wCHAAwCBAAcAVwAGwDOAKAAKwEhAfMAZQDZABEBPgAkAbwACgD8ABEAAgEkAvP/6gD/APYAmwD2APYABQHOACMABAHiABAB9gCZABYADwFoABkA1ACuAHAA6AAHAX4ADwD6APwAfQA7AIsArAAUAE4A/ABlAB8AEAAWABkANQHJABwARwHUACAAWAAgAfIATgLcAHEADQG3AL4ABADyALcAGwEQAcgAhgD9ABAB2wAYALQAHQCsAOEAnwAcAA0ABwGeAKsAhgDMAdEAlwDuAScBAgEiAEUACAEJAc4ADAByAW4AcQA5AewACgGmAIEA1QDyAOgAwAAWABwB9wCwAM0A/f+xANYABwH5AC4AwQDuABAABAAvAAsBvAAFAO4A2QCXAAwBHwDCAOUA+gDOABkBvADCAGsAAQEFARgANADeABABHgC+ABUAawAcABwBBQEIASsAFAACAQsB1gAQAPgAvACDAAoAkgCeABsAAgG+AAsBXQAOACUBFQAhAQsA4wAfAfb/HgDVAA4AMAD1/4MAtAAOAYAAEAEQAekAGQDJAKMAAgEIAQ8ACQHzACsB0gD8AAUB8f/GAFcAhAALAWcAJgAhAU4AogD9APYAkAAUABEA2AAJASIANQDHAJIAIwHCAOQAAgGfAJMAFQDBAAwA/QDiANgAAQEaAHQAxwC5AA8AqwBuAAoB0gCmAMcArgCCAjIBPwACAMkAEQEdADIAGQANASYA3AC3ANMAQQDoALsA+ABvABUBqwDmAD8ADQCUAKwACQCdAKcA4AC5APAAzgAiAXgAMAEiAesAqABEAAYBngD7AFoABAH2APwAlAB9AOcASwCCAMgAGQDgAGMA5gDXAKQAHwA1ANAA5QAKAeoAowAQAAAAFgE0ABoA/P8GAQ8ABwEQAPMAnQCzAN4ALwBJAB0BAwEyADAACAHmAEMBMwDDABMBEwFcABoA1gB9ANYA0QAuABEB5ADiAP4AVAB+AAQBpwALARAA8wAAAAoAAQDQACMA5gAFAS8A4gDNAfUAfgALAPQAmgAIAOQACwAVATQAxAAdAMwAFgCxAHcAtgAQAf0AeAD8APQA3AAVAHwAGAAEAFgAsQCoAHoAIADtAPUANQCeAAoAtQCfABIBIAAOAR0A+QDXAKEALgAKAeMAsgAKAO//MgDtAEIAHwFCANgA4gDYAMIAMQBPAQIBBgBpAAsBIgAUAEoAHwCuABcByQA2AKQAhAA6AeYAMQAdAOMAAAEGABEAFQDcADsAAAEmACQAQgAIAZoADwAQAb4AMQF1AAcBIgD3ADQAdQDCACsAAAHrAIIAwwCwAGMAHgEeAfYADQDmAN8ATwA=",
          "dtype": "i2"
         },
         "yaxis": "y"
        },
        {
         "hovertemplate": "SHOT_MADE_FLAG=1<br>LOC_X=%{x}<br>LOC_Y=%{y}<extra></extra>",
         "legendgroup": "1",
         "marker": {
          "color": "green",
          "symbol": "circle"
         },
         "mode": "markers",
         "name": "1",
         "showlegend": true,
         "type": "scattergl",
         "x": {
          "bdata": "lgD5/wwA+v8VAOYAYgAa//n/HABv/ywAMQDc/yAAXABTAFT/QP9oADX/yv8kAIYAkv9ZAEb/H/8X/zf/hwCH/4EAyAC2//z/0AAFAAAAKwCX/1sALABS/2cAKgAg/47/RgAJANz/9P/a/wUA2//g/zL/BwARAMj/BQCc/wEAewCM/9UA6//F/w8ATP+jAOAADwBhAKf/ugD//5P/mQClAA8AqACf/6f/5gD//xD/7P8AAB0AlwAcAOP/qv/l/2z/n/9G/9T/OACWANP/q//VAN7/yv9AABwAVP8JAP7/8/8MAKH///9iAOoA/P8FAHz/G/8JADUA4P/s/xAAw/8aAIz/7v/fAK0A6QDx/wsAcQDr/zH/9//7/zcA+v/x/+EA+v+tAPX/9f8ZAFIACgBsAJIAbAAwABX/6f8d/5X/5P+GAC0A4QAX/0YA6ADU/0UALQB//yoAmABtAG4APQAyAGsA3/8MAKn/Fv8tAFEAFgCDABkAZP8rAOP/JwAJAJwAbv/8/3AA2v9DAHT/+v8qAKcABQBkAF//yP8gABAAqwDq/5D/BgBL/+EAFgAWAIn/5QBTAKwAPgAiAGT/Fv8a/3wAJACqADP/SABhACIAn//IAIf/IAC0/7T/jP9XAJYAXgAvAAAAKACXAJj/KADV/wUAYABBAJEAkgAZAOkAGgD0/wUAAgAo/4MAFQBFAEsAzQArAJL/RwAT/wsA9v+zAP7/GQDkABEAVv/8/7QAFf8dAAAAwP8NAO7/VgBdAA0A1P8+AGr/1gCQ/1AAQ/9B/1b/Nf/tAKL///+i/w3/HwDIAMj/4P8x/6X/3v/tAL4AJwA3AGEAAAB//0T/BgCiAC0ANwAdAC0AHQBS/wAALwAyACEAH/9Y/0AACQDr/+v/AgARABr/cgBB//H/HACO/8sAaADZAEb/G/8X/1n/mgBNAPr//v92/x8AUwBcAOX/4wDL/xoAaP/kAFb/6QAQANb/5P8BADwAZ/8JABv/0P99AOz/QADG/84AJv/g/0wAGgAc/xAADwBt/5QAPgABAPr/FQAc/wUAJ/8SAPr/EgAKAOr//v8HANX/SwBM/yj/KwCQ/+kA2ADY/5D/pP9J/yIAU//r/4kATAAqAPT/6ADe//b/l/8q/4IA6v9o/2gAiAAYAGwA+f/n/1z/AAD0/wkAMf93ACAAAAA9/wkABgDr//b/HQAPABr/mf8MAAUA///q/xAADACZ/xb/CgBt/zn/EQAQAPn/HwDkAFv/9P8oALn/aAAxAPb/FADUABAAGQDZ/xQAcgAlAHwAOgA9AG4AFwDlAI0AkP8S/xL/IACaAIH/rwAhAIMAz/8PAOkAxQDk/5P/ogAKADsAEQA2AND/cv92AHH/6wDDABkA3v81ABcAJQBkAOH/HwAUABsAeABHACb/KwDl/30AbP/7/yUAMQDl/+D/5gCtAKf/qADr/+QAMQAoAP//6/90ACEA2gA6APP/Yf95ACEAH/8=",
          "dtype": "i2"
         },
         "xaxis": "x",
         "y": {
          "bdata": "TwAGAAAAAQAKAEEAAwFjAAcA/ADeABcAIAASACUAAAETAMgArABLAbUAoAAdAHUA9gAGAc4AhQBfAKQAnABgAOoApAD/AAgAwwANAAAAEQAZAfIAHADMAB0BJQBJAOIAKwAFAbcADQDgAAkAGwATAZ8AFAAHABUBFgBqAAsBmwAfAa0AAABHAAQAIQDoAD8ABgDvADsA7AARAAAB3QDOABAAzgD5ABUAJAD8AAsA/v+oAMwA5gAOARUAswAmAOQAEgHFACcADgDRACAAOwCwABEAHwAQAWAAuQAFACUACAAEAA8AEwBgAAsA+gAIANIAgwAFAPgADQAIAAIAswAHANsABgB0ANEADwAGAA0AHAH1AJMAAQABAPIACAD+/wAABgDtAP//AwFmAJsADAALAPQAAwH+APf/KQB9AFAAIwAMAR0ApADv/xcBcwARAAYBHADrACIA3ACBAAQBHgAfAAABGgAoAGMABgAMAfkANADrAHgAxwAVAA8AQwARAckA7AA8AAsBGQCPAM4AUAANAeAAGAACAdwAegAdAAYAxAD6ADsADQCwACoAFgAQAe8AhgBKAO0AFQASAAEB7//n/+EAIAD2AJwA9wD6AB0A9QDbAO8ADQAxASABlAA4AQQA+AALAAAACgFlABYBEQF5ABAA9wCJAAgAzgAaAA8ADQAPAP//JwF/AAsBFwD7ABYAoAAWAAgBLQFJAD4ACADFAAoACACNAAwA0QBeAKoAAQB9APb/pAABAAoBQwAKAQ4ANQCiAOkAggD8AA0A0QBtAMkApgBpAL0A+QGyAAoAIQCfABkADwCuABEBGwAjALsACgD1AE0AtQD5ALQAPADNAA8A1gAmABcAJQDsADUACwARACMAQwDLAEsAGgEWABoACwESAPb/6QDCABoAEADnAIcABwGUAK4AMgBWAMcA0QCsABoAFQAwAREAAAGqAA8AfgCEAA0A1QAQAFQAOQBMACQAFAAGAUMAzwAGABoA+ACBABAAGwHxAJUAfgANAQcBEAAPAPv/FgDRAOcAGQASAREB/QBKALUAkAAIADsBDQAWAAcBZAARACMAfgC7AIoAIAAqADcAkAAZAO4AegDmABQAwwALAAYB/QAQAMwA+v8KAA4AWgCTADgBGQDFABAB2AAUAB0ACgAHAcoADAASABUApwDBAHUAEgAFABQADQALASUA/AD//wQA5wA+AP//EQDxAAABBQDpAD4ADAA1AakACwAJAAEAEQBsAOIACgCkAJsA6ABjAAsAOgCPAAUAGQAWAA8ABAEbAOIAGgC5ABgAeAABAAYAWgD6/wsAGQDnAGcAyAAaAPYAFgCsAEEAsgAYASsB2AAyABQBJgAZAA0AjQDxAOQA8v/DAPwACAENADQAEgG+ABQAEQAKAAoAqQAbAWkAQgAdAPgA2QATASABFgAcABkAjgDdAPAA1wAIAB8AEAAfABQADQDnABQAgwC0APf/0wDvAA8ATwA=",
          "dtype": "i2"
         },
         "yaxis": "y"
        },
        {
         "line": {
          "color": "black",
          "width": 2
         },
         "mode": "lines",
         "showlegend": false,
         "type": "scatter",
         "x": {
          "bdata": "YGNjcKRfED3DF/mYbf4NQLzoTKd4/R1AGsgyV+h8JkBFpn0PpfktQC45SBk8ujJAKnLYynN2NkCSMJaaPDE6QOlqEJ5Z6j1AUqUQA8fQQEDzrmeRTqtCQL5lljOlhERAXCWatqxcRkDxz9H8RjNIQO2u6f9VCEpAldfF0rvbS0Bh82qjWq1NQGpN5bwUfU9A2wKXRGalUECaJYdJMotRQC8/AMTfb1JALo4HHWBTU0DjqtjQpDVUQLCY0m+fFlVAjo5jn0H2VUCbZ/MafdRWQK6szLRDsVdAQCgEV4eMWECk9V4EOmZZQBT9NtlNPlpA681dDLUUW0CEyP3vYelbQJaJefJGvFxAgohJn1aNXUCj2tefg1xeQJENWrzAKV9AWQqp3AD1X0ALeouEG19gQAR6oTWrwmBA7HJ1JyklYUA+a10Rj4ZhQGMkjbzW5mFADZl7BPpFYkBfUUfX8qNiQGOGGTa7AGNAdg6INU1cY0B3DPb9orZjQJBb88u2D2RAbbGa8IJnZEAAce7RAb5kQMUnNOstE2VAxa9OzQFnZUCb8BYfeLllQLc5s52LCmZAaTDtHDdaZkAsTIaHdahmQMzbit9B9WZAHY6jPpdAZ0ASeWXWcIpnQBWaoPDJ0mdAm8qs750ZaEAdJLVO6F5oQIXOAaKkomhAfzRAl87kaED7mMn1YSVpQF4J6J5aZGlAFagZjrShaUAaS1LZa91pQFlqO7F8F2pA11lyYeNPakCdy8RQnIZqQJSVawGku2pAirdDEffuakDCnQU6kiBrQImcelFyUGtAYaGwSZR+a0B+Fiwx9aprQFb1FzOS1WtATgV0l2j+a0ByQ0HDdSVsQH5wrDi3SmxAasI2lypubEDtttybzY9sQIYEOyGer2xAj6exH5rNbEBJCYWtv+lsQJw+/f4MBG1ArVyDZoAcbUBM4bxUGDNtQJktpVjTR21AJhGlH7BabUAoZKh1rWttQE6vMUXKem1A+N9rlwWIbUC8BzqUXpNtQB8mRYLUnG1AyfsHx2akbUA+5tjmFKptQKrD8YTerW1AK951Y8OvbUAr3nVjw69tQKrD8YTerW1APubY5hSqbUDJ+wfHZqRtQB8mRYLUnG1AvAc6lF6TbUD432uXBYhtQE6vMUXKem1AKGSoda1rbUAmEaUfsFptQJktpVjTR21ATOG8VBgzbUCtXINmgBxtQJw+/f4MBG1ASQmFrb/pbECOp7Efms1sQIUEOyGer2xA7bbcm82PbEBqwjaXKm5sQH5wrDi3SmxAckNBw3UlbEBNBXSXaP5rQFb1FzOS1WtAfhYsMfWqa0BhobBJlH5rQImcelFyUGtAwZ0FOpIga0CKt0MR9+5qQJSVawGku2pAnMvEUJyGakDXWXJh409qQFhqO7F8F2pAGktS2WvdaUAVqBmOtKFpQF0J6J5aZGlA+5jJ9WElaUB+NECXzuRoQIXOAaKkomhAHCS1TuheaECayqzvnRloQBWaoPDJ0mdAEXll1nCKZ0AejqM+l0BnQMvbit9B9WZAKkyGh3WoZkBpMO0cN1pmQLY5s52LCmZAm/AWH3i5ZUDEr07NAWdlQMUnNOstE2VAAHHu0QG+ZEBssZrwgmdkQJBb88u2D2RAdwz2/aK2Y0B3Dog1TVxjQGOGGTa7AGNAXVFH1/KjYkANmXsE+kViQGMkjbzW5mFAP2tdEY+GYUDrcnUnKSVhQAJ6oTWrwmBAC3qLhBtfYEBVCqncAPVfQJENWrzAKV9Ao9rXn4NcXkB/iEmfVo1dQJaJefJGvFxAgcj972HpW0DrzV0MtRRbQBT9NtlNPlpAovVeBDpmWUBAKARXh4xYQKuszLRDsVdAm2fzGn3UVkCOjmOfQfZVQLOY0m+fFlVA46rY0KQ1VEAqjgcdYFNTQC8/AMTfb1JAmiWHSTKLUUDbApdEZqVQQGpN5bwUfU9AWvNqo1qtTUCV18XSu9tLQOWu6f9VCEpA8c/R/EYzSEBcJZq2rFxGQLZlljOlhERA865nkU6rQkBLpRADx9BAQOlqEJ5Z6j1AkjCWmjwxOkAbctjKc3Y2QC45SBk8ujJAJ6Z9D6X5LUAayDJX6HwmQLzoTKd4/R1ATRf5mG3+DUBgY2NwpF8QPQ==",
          "dtype": "f8"
         },
         "y": {
          "bdata": "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",
          "dtype": "f8"
         }
        }
       ],
       "layout": {
        "height": 700,
        "legend": {
         "title": {
          "text": "SHOT_MADE_FLAG"
         },
         "tracegroupgap": 0
        },
        "margin": {
         "t": 60
        },
        "shapes": [
         {
          "line": {
           "color": "black"
          },
          "type": "circle",
          "x0": -7.5,
          "x1": 7.5,
          "xref": "x",
          "y0": -7.5,
          "y1": 7.5,
          "yref": "y"
         },
         {
          "line": {
           "color": "black",
           "width": 3
          },
          "type": "line",
          "x0": -30,
          "x1": 30,
          "xref": "x",
          "y0": -7.5,
          "y1": -7.5,
          "yref": "y"
         },
         {
          "line": {
           "color": "black"
          },
          "type": "rect",
          "x0": -80,
          "x1": 80,
          "xref": "x",
          "y0": 0,
          "y1": 190,
          "yref": "y"
         },
         {
          "line": {
           "color": "black"
          },
          "type": "circle",
          "x0": -60,
          "x1": 60,
          "xref": "x",
          "y0": 130,
          "y1": 250,
          "yref": "y"
         }
        ],
        "template": {
         "data": {
          "bar": [
           {
            "error_x": {
             "color": "#2a3f5f"
            },
            "error_y": {
             "color": "#2a3f5f"
            },
            "marker": {
             "line": {
              "color": "#E5ECF6",
              "width": 0.5
             },
             "pattern": {
              "fillmode": "overlay",
              "size": 10,
              "solidity": 0.2
             }
            },
            "type": "bar"
           }
          ],
          "barpolar": [
           {
            "marker": {
             "line": {
              "color": "#E5ECF6",
              "width": 0.5
             },
             "pattern": {
              "fillmode": "overlay",
              "size": 10,
              "solidity": 0.2
             }
            },
            "type": "barpolar"
           }
          ],
          "carpet": [
           {
            "aaxis": {
             "endlinecolor": "#2a3f5f",
             "gridcolor": "white",
             "linecolor": "white",
             "minorgridcolor": "white",
             "startlinecolor": "#2a3f5f"
            },
            "baxis": {
             "endlinecolor": "#2a3f5f",
             "gridcolor": "white",
             "linecolor": "white",
             "minorgridcolor": "white",
             "startlinecolor": "#2a3f5f"
            },
            "type": "carpet"
           }
          ],
          "choropleth": [
           {
            "colorbar": {
             "outlinewidth": 0,
             "ticks": ""
            },
            "type": "choropleth"
           }
          ],
          "contour": [
           {
            "colorbar": {
             "outlinewidth": 0,
             "ticks": ""
            },
            "colorscale": [
             [
              0,
              "#0d0887"
             ],
             [
              0.1111111111111111,
              "#46039f"
             ],
             [
              0.2222222222222222,
              "#7201a8"
             ],
             [
              0.3333333333333333,
              "#9c179e"
             ],
             [
              0.4444444444444444,
              "#bd3786"
             ],
             [
              0.5555555555555556,
              "#d8576b"
             ],
             [
              0.6666666666666666,
              "#ed7953"
             ],
             [
              0.7777777777777778,
              "#fb9f3a"
             ],
             [
              0.8888888888888888,
              "#fdca26"
             ],
             [
              1,
              "#f0f921"
             ]
            ],
            "type": "contour"
           }
          ],
          "contourcarpet": [
           {
            "colorbar": {
             "outlinewidth": 0,
             "ticks": ""
            },
            "type": "contourcarpet"
           }
          ],
          "heatmap": [
           {
            "colorbar": {
             "outlinewidth": 0,
             "ticks": ""
            },
            "colorscale": [
             [
              0,
              "#0d0887"
             ],
             [
              0.1111111111111111,
              "#46039f"
             ],
             [
              0.2222222222222222,
              "#7201a8"
             ],
             [
              0.3333333333333333,
              "#9c179e"
             ],
             [
              0.4444444444444444,
              "#bd3786"
             ],
             [
              0.5555555555555556,
              "#d8576b"
             ],
             [
              0.6666666666666666,
              "#ed7953"
             ],
             [
              0.7777777777777778,
              "#fb9f3a"
             ],
             [
              0.8888888888888888,
              "#fdca26"
             ],
             [
              1,
              "#f0f921"
             ]
            ],
            "type": "heatmap"
           }
          ],
          "histogram": [
           {
            "marker": {
             "pattern": {
              "fillmode": "overlay",
              "size": 10,
              "solidity": 0.2
             }
            },
            "type": "histogram"
           }
          ],
          "histogram2d": [
           {
            "colorbar": {
             "outlinewidth": 0,
             "ticks": ""
            },
            "colorscale": [
             [
              0,
              "#0d0887"
             ],
             [
              0.1111111111111111,
              "#46039f"
             ],
             [
              0.2222222222222222,
              "#7201a8"
             ],
             [
              0.3333333333333333,
              "#9c179e"
             ],
             [
              0.4444444444444444,
              "#bd3786"
             ],
             [
              0.5555555555555556,
              "#d8576b"
             ],
             [
              0.6666666666666666,
              "#ed7953"
             ],
             [
              0.7777777777777778,
              "#fb9f3a"
             ],
             [
              0.8888888888888888,
              "#fdca26"
             ],
             [
              1,
              "#f0f921"
             ]
            ],
            "type": "histogram2d"
           }
          ],
          "histogram2dcontour": [
           {
            "colorbar": {
             "outlinewidth": 0,
             "ticks": ""
            },
            "colorscale": [
             [
              0,
              "#0d0887"
             ],
             [
              0.1111111111111111,
              "#46039f"
             ],
             [
              0.2222222222222222,
              "#7201a8"
             ],
             [
              0.3333333333333333,
              "#9c179e"
             ],
             [
              0.4444444444444444,
              "#bd3786"
             ],
             [
              0.5555555555555556,
              "#d8576b"
             ],
             [
              0.6666666666666666,
              "#ed7953"
             ],
             [
              0.7777777777777778,
              "#fb9f3a"
             ],
             [
              0.8888888888888888,
              "#fdca26"
             ],
             [
              1,
              "#f0f921"
             ]
            ],
            "type": "histogram2dcontour"
           }
          ],
          "mesh3d": [
           {
            "colorbar": {
             "outlinewidth": 0,
             "ticks": ""
            },
            "type": "mesh3d"
           }
          ],
          "parcoords": [
           {
            "line": {
             "colorbar": {
              "outlinewidth": 0,
              "ticks": ""
             }
            },
            "type": "parcoords"
           }
          ],
          "pie": [
           {
            "automargin": true,
            "type": "pie"
           }
          ],
          "scatter": [
           {
            "fillpattern": {
             "fillmode": "overlay",
             "size": 10,
             "solidity": 0.2
            },
            "type": "scatter"
           }
          ],
          "scatter3d": [
           {
            "line": {
             "colorbar": {
              "outlinewidth": 0,
              "ticks": ""
             }
            },
            "marker": {
             "colorbar": {
              "outlinewidth": 0,
              "ticks": ""
             }
            },
            "type": "scatter3d"
           }
          ],
          "scattercarpet": [
           {
            "marker": {
             "colorbar": {
              "outlinewidth": 0,
              "ticks": ""
             }
            },
            "type": "scattercarpet"
           }
          ],
          "scattergeo": [
           {
            "marker": {
             "colorbar": {
              "outlinewidth": 0,
              "ticks": ""
             }
            },
            "type": "scattergeo"
           }
          ],
          "scattergl": [
           {
            "marker": {
             "colorbar": {
              "outlinewidth": 0,
              "ticks": ""
             }
            },
            "type": "scattergl"
           }
          ],
          "scattermap": [
           {
            "marker": {
             "colorbar": {
              "outlinewidth": 0,
              "ticks": ""
             }
            },
            "type": "scattermap"
           }
          ],
          "scattermapbox": [
           {
            "marker": {
             "colorbar": {
              "outlinewidth": 0,
              "ticks": ""
             }
            },
            "type": "scattermapbox"
           }
          ],
          "scatterpolar": [
           {
            "marker": {
             "colorbar": {
              "outlinewidth": 0,
              "ticks": ""
             }
            },
            "type": "scatterpolar"
           }
          ],
          "scatterpolargl": [
           {
            "marker": {
             "colorbar": {
              "outlinewidth": 0,
              "ticks": ""
             }
            },
            "type": "scatterpolargl"
           }
          ],
          "scatterternary": [
           {
            "marker": {
             "colorbar": {
              "outlinewidth": 0,
              "ticks": ""
             }
            },
            "type": "scatterternary"
           }
          ],
          "surface": [
           {
            "colorbar": {
             "outlinewidth": 0,
             "ticks": ""
            },
            "colorscale": [
             [
              0,
              "#0d0887"
             ],
             [
              0.1111111111111111,
              "#46039f"
             ],
             [
              0.2222222222222222,
              "#7201a8"
             ],
             [
              0.3333333333333333,
              "#9c179e"
             ],
             [
              0.4444444444444444,
              "#bd3786"
             ],
             [
              0.5555555555555556,
              "#d8576b"
             ],
             [
              0.6666666666666666,
              "#ed7953"
             ],
             [
              0.7777777777777778,
              "#fb9f3a"
             ],
             [
              0.8888888888888888,
              "#fdca26"
             ],
             [
              1,
              "#f0f921"
             ]
            ],
            "type": "surface"
           }
          ],
          "table": [
           {
            "cells": {
             "fill": {
              "color": "#EBF0F8"
             },
             "line": {
              "color": "white"
             }
            },
            "header": {
             "fill": {
              "color": "#C8D4E3"
             },
             "line": {
              "color": "white"
             }
            },
            "type": "table"
           }
          ]
         },
         "layout": {
          "annotationdefaults": {
           "arrowcolor": "#2a3f5f",
           "arrowhead": 0,
           "arrowwidth": 1
          },
          "autotypenumbers": "strict",
          "coloraxis": {
           "colorbar": {
            "outlinewidth": 0,
            "ticks": ""
           }
          },
          "colorscale": {
           "diverging": [
            [
             0,
             "#8e0152"
            ],
            [
             0.1,
             "#c51b7d"
            ],
            [
             0.2,
             "#de77ae"
            ],
            [
             0.3,
             "#f1b6da"
            ],
            [
             0.4,
             "#fde0ef"
            ],
            [
             0.5,
             "#f7f7f7"
            ],
            [
             0.6,
             "#e6f5d0"
            ],
            [
             0.7,
             "#b8e186"
            ],
            [
             0.8,
             "#7fbc41"
            ],
            [
             0.9,
             "#4d9221"
            ],
            [
             1,
             "#276419"
            ]
           ],
           "sequential": [
            [
             0,
             "#0d0887"
            ],
            [
             0.1111111111111111,
             "#46039f"
            ],
            [
             0.2222222222222222,
             "#7201a8"
            ],
            [
             0.3333333333333333,
             "#9c179e"
            ],
            [
             0.4444444444444444,
             "#bd3786"
            ],
            [
             0.5555555555555556,
             "#d8576b"
            ],
            [
             0.6666666666666666,
             "#ed7953"
            ],
            [
             0.7777777777777778,
             "#fb9f3a"
            ],
            [
             0.8888888888888888,
             "#fdca26"
            ],
            [
             1,
             "#f0f921"
            ]
           ],
           "sequentialminus": [
            [
             0,
             "#0d0887"
            ],
            [
             0.1111111111111111,
             "#46039f"
            ],
            [
             0.2222222222222222,
             "#7201a8"
            ],
            [
             0.3333333333333333,
             "#9c179e"
            ],
            [
             0.4444444444444444,
             "#bd3786"
            ],
            [
             0.5555555555555556,
             "#d8576b"
            ],
            [
             0.6666666666666666,
             "#ed7953"
            ],
            [
             0.7777777777777778,
             "#fb9f3a"
            ],
            [
             0.8888888888888888,
             "#fdca26"
            ],
            [
             1,
             "#f0f921"
            ]
           ]
          },
          "colorway": [
           "#636efa",
           "#EF553B",
           "#00cc96",
           "#ab63fa",
           "#FFA15A",
           "#19d3f3",
           "#FF6692",
           "#B6E880",
           "#FF97FF",
           "#FECB52"
          ],
          "font": {
           "color": "#2a3f5f"
          },
          "geo": {
           "bgcolor": "white",
           "lakecolor": "white",
           "landcolor": "#E5ECF6",
           "showlakes": true,
           "showland": true,
           "subunitcolor": "white"
          },
          "hoverlabel": {
           "align": "left"
          },
          "hovermode": "closest",
          "mapbox": {
           "style": "light"
          },
          "paper_bgcolor": "white",
          "plot_bgcolor": "#E5ECF6",
          "polar": {
           "angularaxis": {
            "gridcolor": "white",
            "linecolor": "white",
            "ticks": ""
           },
           "bgcolor": "#E5ECF6",
           "radialaxis": {
            "gridcolor": "white",
            "linecolor": "white",
            "ticks": ""
           }
          },
          "scene": {
           "xaxis": {
            "backgroundcolor": "#E5ECF6",
            "gridcolor": "white",
            "gridwidth": 2,
            "linecolor": "white",
            "showbackground": true,
            "ticks": "",
            "zerolinecolor": "white"
           },
           "yaxis": {
            "backgroundcolor": "#E5ECF6",
            "gridcolor": "white",
            "gridwidth": 2,
            "linecolor": "white",
            "showbackground": true,
            "ticks": "",
            "zerolinecolor": "white"
           },
           "zaxis": {
            "backgroundcolor": "#E5ECF6",
            "gridcolor": "white",
            "gridwidth": 2,
            "linecolor": "white",
            "showbackground": true,
            "ticks": "",
            "zerolinecolor": "white"
           }
          },
          "shapedefaults": {
           "line": {
            "color": "#2a3f5f"
           }
          },
          "ternary": {
           "aaxis": {
            "gridcolor": "white",
            "linecolor": "white",
            "ticks": ""
           },
           "baxis": {
            "gridcolor": "white",
            "linecolor": "white",
            "ticks": ""
           },
           "bgcolor": "#E5ECF6",
           "caxis": {
            "gridcolor": "white",
            "linecolor": "white",
            "ticks": ""
           }
          },
          "title": {
           "x": 0.05
          },
          "xaxis": {
           "automargin": true,
           "gridcolor": "white",
           "linecolor": "white",
           "ticks": "",
           "title": {
            "standoff": 15
           },
           "zerolinecolor": "white",
           "zerolinewidth": 2
          },
          "yaxis": {
           "automargin": true,
           "gridcolor": "white",
           "linecolor": "white",
           "ticks": "",
           "title": {
            "standoff": 15
           },
           "zerolinecolor": "white",
           "zerolinewidth": 2
          }
         }
        },
        "width": 600,
        "xaxis": {
         "anchor": "y",
         "domain": [
          0,
          1
         ],
         "range": [
          -250,
          250
         ],
         "title": {
          "text": "LOC_X"
         }
        },
        "yaxis": {
         "anchor": "x",
         "autorange": "reversed",
         "domain": [
          0,
          1
         ],
         "range": [
          0,
          470
         ],
         "scaleanchor": "x",
         "scaleratio": 1,
         "title": {
          "text": "LOC_Y"
         }
        }
       }
      },
      "text/html": [
       "<div>                        <script type=\"text/javascript\">window.PlotlyConfig = {MathJaxConfig: 'local'};</script>\n",
       "        <script charset=\"utf-8\" src=\"https://cdn.plot.ly/plotly-3.0.1.min.js\" integrity=\"sha256-oy6Be7Eh6eiQFs5M7oXuPxxm9qbJXEtTpfSI93dW16Q=\" crossorigin=\"anonymous\"></script>                <div id=\"80b0bd51-4303-499a-844d-9b04bcf0aed7\" class=\"plotly-graph-div\" style=\"height:700px; width:600px;\"></div>            <script type=\"text/javascript\">                window.PLOTLYENV=window.PLOTLYENV || {};                                if (document.getElementById(\"80b0bd51-4303-499a-844d-9b04bcf0aed7\")) {                    Plotly.newPlot(                        \"80b0bd51-4303-499a-844d-9b04bcf0aed7\",                        [{\"hovertemplate\":\"SHOT_MADE_FLAG=0\\u003cbr\\u003eLOC_X=%{x}\\u003cbr\\u003eLOC_Y=%{y}\\u003cextra\\u003e\\u003c\\u002fextra\\u003e\",\"legendgroup\":\"0\",\"marker\":{\"color\":\"red\",\"symbol\":\"circle\"},\"mode\":\"markers\",\"name\":\"0\",\"showlegend\":true,\"x\":{\"dtype\":\"i2\",\"bdata\":\"PAAHAGn\\u002fr\\u002f+f\\u002f6QA6v\\u002fgAND\\u002fQ\\u002f9+\\u002f54AqAD5\\u002f5cAYwAfAA0Ab\\u002f9SACwAHf\\u002fb\\u002f50ANv\\u002fx\\u002fxP\\u002fUwCf\\u002f7X\\u002fxACV\\u002f+f\\u002fNwAzANH\\u002fXACJAML\\u002fkwDr\\u002f00ABADVAP\\u002f\\u002f9\\u002f9YAOoA0gD3\\u002fzEAYAAbACH\\u002fwv8vAGcAnf\\u002fV\\u002fxAAEgA2APf\\u002frgB+\\u002f3YAjwAJAB8Ad\\u002f\\u002fhAB0A5f9mADcACQCzACP\\u002fd\\u002f9CAFT\\u002f2QBd\\u002fx8A9P9xALUAGP84AOf\\u002ftP9k\\u002f+n\\u002fXgAaAOH\\u002fgv9h\\u002f7wA5\\u002f9t\\u002f+H\\u002fDwBi\\u002fwIAqv+k\\u002f\\u002f7\\u002fDADhAPz\\u002fgQBLACD\\u002fjf\\u002fD\\u002f03\\u002f3gA1AHT\\u002fH\\u002f9DAM8AuQA8AOr\\u002fiQCXAAkA\\u002f\\u002f8HAOz\\u002fMADCABAAvv+cAN7\\u002flP8oAFz\\u002fGQCB\\u002fx\\u002f\\u002fPABW\\u002f7MAo\\u002f94\\u002f0T\\u002f2wAHAB0AJf+J\\u002fzUAc\\u002f8sAFkAJgBG\\u002f4MAAAArABb\\u002fOADjAD7\\u002figDUAGT\\u002fIgDz\\u002fzUAlP82AN4ASAAHAHH\\u002f+f+dAHf\\u002fQwBSAHwAfADAAJz\\u002fjwBgAHwAVv8WABAAd\\u002f\\u002fe\\u002f2n\\u002fDQCu\\u002fwIAiP89\\u002f3IALwCTALj\\u002fEv8gAFj\\u002fQf8wAIgAqgAw\\u002fwcA4P9U\\u002f7AAZAABACwANv9R\\u002f9T\\u002fS\\u002f9SACsA0\\u002f\\u002fT\\u002f7X\\u002f0f9R\\u002f\\u002fMAQQBAAF4AnwBMAOT\\u002f3P+EADcAXP8LALj\\u002fxABRAB0A2QDZAEoApP9b\\u002f04AGP8QAEYA5\\u002f9GABAAkwAzAB3\\u002fNQCXAOT\\u002fov8h\\u002fx3\\u002fQP9Y\\u002f+P\\u002fLAC3AGb\\u002fGv9R\\u002f8gAy\\u002f\\u002fT\\u002f+b\\u002ftf9hAKj\\u002fX\\u002f8hALj\\u002fIP9o\\u002f1gAGv+iAIYAJgA8AIYAzgAhAGYA1P8lAFkAzQCr\\u002f3z\\u002fJf+5AEUA9\\u002f\\u002fEAFX\\u002f\\u002f\\u002f9KANIA3P9U\\u002f+MAIgBxAGz\\u002fmf\\u002fa\\u002f5kASf\\u002fQACj\\u002fcAAoAKcAY\\u002f9kAPn\\u002fwgDAAPz\\u002fCwBdAP\\u002f\\u002f3v\\u002fe\\u002f\\u002fz\\u002f3\\u002f\\u002fK\\u002fx8AlgDTAJIABwBtAFT\\u002fggBOAPr\\u002fygBq\\u002fyoAH\\u002f\\u002fx\\u002fyUA8\\u002f9A\\u002f+v\\u002frwBYAIEAdP+Y\\u002fyD\\u002f7P9NAJz\\u002fjAAEAMD\\u002fKv82AOQAWf9KAOT\\u002f1f8tAF4AAQDVAJ8AEQCO\\u002f+MAiv9Y\\u002f5z\\u002fPABX\\u002f7QAjP\\u002fw\\u002f4n\\u002fMv8RAAAADAAY\\u002fxkAYf9CACEA6\\u002f8fAMAA2ABG\\u002f3z\\u002fCQDs\\u002f+T\\u002fKAAaAE4A1v+kAPv\\u002fzgBDAA8A+\\u002f8VAOT\\u002fkQAtAHr\\u002frwD8\\u002f+z\\u002fh\\u002f9zACYAf\\u002f8i\\u002fxUAwwAAAPr\\u002fLQD5\\u002fwEA\\u002f\\u002f90\\u002fwsAjAB0AOv\\u002fdgDLAM3\\u002fQQASAIEAdgAFAHcAE\\u002f\\u002f0\\u002fwQAqQACAKoAAgCsANkAYf+KABcA3wCi\\u002fzEAcv\\u002ff\\u002f9gAKwD5\\u002f+sATv8t\\u002f3MA6ACIAJgACgBL\\u002f4T\\u002fRP92ACQA2v9CAOD\\u002fbABc\\u002fzX\\u002fMwDk\\u002f5QADwA9AB3\\u002fEgDCAA8A3\\u002f8hAJ0AigCPAET\\u002f+\\u002f8XAJcA0P\\u002fV\\u002f1gA2v\\u002fU\\u002fyAATADWACYAqAD3\\u002f5gAVwD5\\u002f4kAEf\\u002fL\\u002f0j\\u002flADoAB0AGwBu\\u002fw8AkgDrAPv\\u002f4QBkAC3\\u002fz\\u002f8CABkA0P9sAHj\\u002fRwCaAND\\u002fkwCyADUAIAByAOAAV\\u002f9cAHcA+\\u002f9xADb\\u002fCgBX\\u002f1T\\u002fIP8=\"},\"xaxis\":\"x\",\"y\":{\"dtype\":\"i2\",\"bdata\":\"CgARAcUA5QCTALgB9P8zADsBvgDUAMQA5wADAc0ABAFeAGIA1wBaACMAAQAmAIcAogAcAAcAKQD7ABUA6AABASgAtAAfAKsAYADiALoA5gAsABkBdgDPADsBEQEYAf\\u002f\\u002fpgBPAV0ANQE\\u002fAOn\\u002f8wAkAegAAQEZAYQACAEXAYoAwwDtADoBIQEKAWkA8wCHAAwCBAAcAVwAGwDOAKAAKwEhAfMAZQDZABEBPgAkAbwACgD8ABEAAgEkAvP\\u002f6gD\\u002fAPYAmwD2APYABQHOACMABAHiABAB9gCZABYADwFoABkA1ACuAHAA6AAHAX4ADwD6APwAfQA7AIsArAAUAE4A\\u002fABlAB8AEAAWABkANQHJABwARwHUACAAWAAgAfIATgLcAHEADQG3AL4ABADyALcAGwEQAcgAhgD9ABAB2wAYALQAHQCsAOEAnwAcAA0ABwGeAKsAhgDMAdEAlwDuAScBAgEiAEUACAEJAc4ADAByAW4AcQA5AewACgGmAIEA1QDyAOgAwAAWABwB9wCwAM0A\\u002ff+xANYABwH5AC4AwQDuABAABAAvAAsBvAAFAO4A2QCXAAwBHwDCAOUA+gDOABkBvADCAGsAAQEFARgANADeABABHgC+ABUAawAcABwBBQEIASsAFAACAQsB1gAQAPgAvACDAAoAkgCeABsAAgG+AAsBXQAOACUBFQAhAQsA4wAfAfb\\u002fHgDVAA4AMAD1\\u002f4MAtAAOAYAAEAEQAekAGQDJAKMAAgEIAQ8ACQHzACsB0gD8AAUB8f\\u002fGAFcAhAALAWcAJgAhAU4AogD9APYAkAAUABEA2AAJASIANQDHAJIAIwHCAOQAAgGfAJMAFQDBAAwA\\u002fQDiANgAAQEaAHQAxwC5AA8AqwBuAAoB0gCmAMcArgCCAjIBPwACAMkAEQEdADIAGQANASYA3AC3ANMAQQDoALsA+ABvABUBqwDmAD8ADQCUAKwACQCdAKcA4AC5APAAzgAiAXgAMAEiAesAqABEAAYBngD7AFoABAH2APwAlAB9AOcASwCCAMgAGQDgAGMA5gDXAKQAHwA1ANAA5QAKAeoAowAQAAAAFgE0ABoA\\u002fP8GAQ8ABwEQAPMAnQCzAN4ALwBJAB0BAwEyADAACAHmAEMBMwDDABMBEwFcABoA1gB9ANYA0QAuABEB5ADiAP4AVAB+AAQBpwALARAA8wAAAAoAAQDQACMA5gAFAS8A4gDNAfUAfgALAPQAmgAIAOQACwAVATQAxAAdAMwAFgCxAHcAtgAQAf0AeAD8APQA3AAVAHwAGAAEAFgAsQCoAHoAIADtAPUANQCeAAoAtQCfABIBIAAOAR0A+QDXAKEALgAKAeMAsgAKAO\\u002f\\u002fMgDtAEIAHwFCANgA4gDYAMIAMQBPAQIBBgBpAAsBIgAUAEoAHwCuABcByQA2AKQAhAA6AeYAMQAdAOMAAAEGABEAFQDcADsAAAEmACQAQgAIAZoADwAQAb4AMQF1AAcBIgD3ADQAdQDCACsAAAHrAIIAwwCwAGMAHgEeAfYADQDmAN8ATwA=\"},\"yaxis\":\"y\",\"type\":\"scattergl\"},{\"hovertemplate\":\"SHOT_MADE_FLAG=1\\u003cbr\\u003eLOC_X=%{x}\\u003cbr\\u003eLOC_Y=%{y}\\u003cextra\\u003e\\u003c\\u002fextra\\u003e\",\"legendgroup\":\"1\",\"marker\":{\"color\":\"green\",\"symbol\":\"circle\"},\"mode\":\"markers\",\"name\":\"1\",\"showlegend\":true,\"x\":{\"dtype\":\"i2\",\"bdata\":\"lgD5\\u002fwwA+v8VAOYAYgAa\\u002f\\u002fn\\u002fHABv\\u002fywAMQDc\\u002fyAAXABTAFT\\u002fQP9oADX\\u002fyv8kAIYAkv9ZAEb\\u002fH\\u002f8X\\u002fzf\\u002fhwCH\\u002f4EAyAC2\\u002f\\u002fz\\u002f0AAFAAAAKwCX\\u002f1sALABS\\u002f2cAKgAg\\u002f47\\u002fRgAJANz\\u002f9P\\u002fa\\u002fwUA2\\u002f\\u002fg\\u002fzL\\u002fBwARAMj\\u002fBQCc\\u002fwEAewCM\\u002f9UA6\\u002f\\u002fF\\u002fw8ATP+jAOAADwBhAKf\\u002fugD\\u002f\\u002f5P\\u002fmQClAA8AqACf\\u002f6f\\u002f5gD\\u002f\\u002fxD\\u002f7P8AAB0AlwAcAOP\\u002fqv\\u002fl\\u002f2z\\u002fn\\u002f9G\\u002f9T\\u002fOACWANP\\u002fq\\u002f\\u002fVAN7\\u002fyv9AABwAVP8JAP7\\u002f8\\u002f8MAKH\\u002f\\u002f\\u002f9iAOoA\\u002fP8FAHz\\u002fG\\u002f8JADUA4P\\u002fs\\u002fxAAw\\u002f8aAIz\\u002f7v\\u002ffAK0A6QDx\\u002fwsAcQDr\\u002fzH\\u002f9\\u002f\\u002f7\\u002fzcA+v\\u002fx\\u002f+EA+v+tAPX\\u002f9f8ZAFIACgBsAJIAbAAwABX\\u002f6f8d\\u002f5X\\u002f5P+GAC0A4QAX\\u002f0YA6ADU\\u002f0UALQB\\u002f\\u002fyoAmABtAG4APQAyAGsA3\\u002f8MAKn\\u002fFv8tAFEAFgCDABkAZP8rAOP\\u002fJwAJAJwAbv\\u002f8\\u002f3AA2v9DAHT\\u002f+v8qAKcABQBkAF\\u002f\\u002fyP8gABAAqwDq\\u002f5D\\u002fBgBL\\u002f+EAFgAWAIn\\u002f5QBTAKwAPgAiAGT\\u002fFv8a\\u002f3wAJACqADP\\u002fSABhACIAn\\u002f\\u002fIAIf\\u002fIAC0\\u002f7T\\u002fjP9XAJYAXgAvAAAAKACXAJj\\u002fKADV\\u002fwUAYABBAJEAkgAZAOkAGgD0\\u002fwUAAgAo\\u002f4MAFQBFAEsAzQArAJL\\u002fRwAT\\u002fwsA9v+zAP7\\u002fGQDkABEAVv\\u002f8\\u002f7QAFf8dAAAAwP8NAO7\\u002fVgBdAA0A1P8+AGr\\u002f1gCQ\\u002f1AAQ\\u002f9B\\u002f1b\\u002fNf\\u002ftAKL\\u002f\\u002f\\u002f+i\\u002fw3\\u002fHwDIAMj\\u002f4P8x\\u002f6X\\u002f3v\\u002ftAL4AJwA3AGEAAAB\\u002f\\u002f0T\\u002fBgCiAC0ANwAdAC0AHQBS\\u002fwAALwAyACEAH\\u002f9Y\\u002f0AACQDr\\u002f+v\\u002fAgARABr\\u002fcgBB\\u002f\\u002fH\\u002fHACO\\u002f8sAaADZAEb\\u002fG\\u002f8X\\u002f1n\\u002fmgBNAPr\\u002f\\u002fv92\\u002fx8AUwBcAOX\\u002f4wDL\\u002fxoAaP\\u002fkAFb\\u002f6QAQANb\\u002f5P8BADwAZ\\u002f8JABv\\u002f0P99AOz\\u002fQADG\\u002f84AJv\\u002fg\\u002f0wAGgAc\\u002fxAADwBt\\u002f5QAPgABAPr\\u002fFQAc\\u002fwUAJ\\u002f8SAPr\\u002fEgAKAOr\\u002f\\u002fv8HANX\\u002fSwBM\\u002fyj\\u002fKwCQ\\u002f+kA2ADY\\u002f5D\\u002fpP9J\\u002fyIAU\\u002f\\u002fr\\u002f4kATAAqAPT\\u002f6ADe\\u002f\\u002fb\\u002fl\\u002f8q\\u002f4IA6v9o\\u002f2gAiAAYAGwA+f\\u002fn\\u002f1z\\u002fAAD0\\u002fwkAMf93ACAAAAA9\\u002fwkABgDr\\u002f\\u002fb\\u002fHQAPABr\\u002fmf8MAAUA\\u002f\\u002f\\u002fq\\u002fxAADACZ\\u002fxb\\u002fCgBt\\u002fzn\\u002fEQAQAPn\\u002fHwDkAFv\\u002f9P8oALn\\u002faAAxAPb\\u002fFADUABAAGQDZ\\u002fxQAcgAlAHwAOgA9AG4AFwDlAI0AkP8S\\u002fxL\\u002fIACaAIH\\u002frwAhAIMAz\\u002f8PAOkAxQDk\\u002f5P\\u002fogAKADsAEQA2AND\\u002fcv92AHH\\u002f6wDDABkA3v81ABcAJQBkAOH\\u002fHwAUABsAeABHACb\\u002fKwDl\\u002f30AbP\\u002f7\\u002fyUAMQDl\\u002f+D\\u002f5gCtAKf\\u002fqADr\\u002f+QAMQAoAP\\u002f\\u002f6\\u002f90ACEA2gA6APP\\u002fYf95ACEAH\\u002f8=\"},\"xaxis\":\"x\",\"y\":{\"dtype\":\"i2\",\"bdata\":\"TwAGAAAAAQAKAEEAAwFjAAcA\\u002fADeABcAIAASACUAAAETAMgArABLAbUAoAAdAHUA9gAGAc4AhQBfAKQAnABgAOoApAD\\u002fAAgAwwANAAAAEQAZAfIAHADMAB0BJQBJAOIAKwAFAbcADQDgAAkAGwATAZ8AFAAHABUBFgBqAAsBmwAfAa0AAABHAAQAIQDoAD8ABgDvADsA7AARAAAB3QDOABAAzgD5ABUAJAD8AAsA\\u002fv+oAMwA5gAOARUAswAmAOQAEgHFACcADgDRACAAOwCwABEAHwAQAWAAuQAFACUACAAEAA8AEwBgAAsA+gAIANIAgwAFAPgADQAIAAIAswAHANsABgB0ANEADwAGAA0AHAH1AJMAAQABAPIACAD+\\u002fwAABgDtAP\\u002f\\u002fAwFmAJsADAALAPQAAwH+APf\\u002fKQB9AFAAIwAMAR0ApADv\\u002fxcBcwARAAYBHADrACIA3ACBAAQBHgAfAAABGgAoAGMABgAMAfkANADrAHgAxwAVAA8AQwARAckA7AA8AAsBGQCPAM4AUAANAeAAGAACAdwAegAdAAYAxAD6ADsADQCwACoAFgAQAe8AhgBKAO0AFQASAAEB7\\u002f\\u002fn\\u002f+EAIAD2AJwA9wD6AB0A9QDbAO8ADQAxASABlAA4AQQA+AALAAAACgFlABYBEQF5ABAA9wCJAAgAzgAaAA8ADQAPAP\\u002f\\u002fJwF\\u002fAAsBFwD7ABYAoAAWAAgBLQFJAD4ACADFAAoACACNAAwA0QBeAKoAAQB9APb\\u002fpAABAAoBQwAKAQ4ANQCiAOkAggD8AA0A0QBtAMkApgBpAL0A+QGyAAoAIQCfABkADwCuABEBGwAjALsACgD1AE0AtQD5ALQAPADNAA8A1gAmABcAJQDsADUACwARACMAQwDLAEsAGgEWABoACwESAPb\\u002f6QDCABoAEADnAIcABwGUAK4AMgBWAMcA0QCsABoAFQAwAREAAAGqAA8AfgCEAA0A1QAQAFQAOQBMACQAFAAGAUMAzwAGABoA+ACBABAAGwHxAJUAfgANAQcBEAAPAPv\\u002fFgDRAOcAGQASAREB\\u002fQBKALUAkAAIADsBDQAWAAcBZAARACMAfgC7AIoAIAAqADcAkAAZAO4AegDmABQAwwALAAYB\\u002fQAQAMwA+v8KAA4AWgCTADgBGQDFABAB2AAUAB0ACgAHAcoADAASABUApwDBAHUAEgAFABQADQALASUA\\u002fAD\\u002f\\u002fwQA5wA+AP\\u002f\\u002fEQDxAAABBQDpAD4ADAA1AakACwAJAAEAEQBsAOIACgCkAJsA6ABjAAsAOgCPAAUAGQAWAA8ABAEbAOIAGgC5ABgAeAABAAYAWgD6\\u002fwsAGQDnAGcAyAAaAPYAFgCsAEEAsgAYASsB2AAyABQBJgAZAA0AjQDxAOQA8v\\u002fDAPwACAENADQAEgG+ABQAEQAKAAoAqQAbAWkAQgAdAPgA2QATASABFgAcABkAjgDdAPAA1wAIAB8AEAAfABQADQDnABQAgwC0APf\\u002f0wDvAA8ATwA=\"},\"yaxis\":\"y\",\"type\":\"scattergl\"},{\"line\":{\"color\":\"black\",\"width\":2},\"mode\":\"lines\",\"showlegend\":false,\"x\":{\"dtype\":\"f8\",\"bdata\":\"YGNjcKRfED3DF\\u002fmYbf4NQLzoTKd4\\u002fR1AGsgyV+h8JkBFpn0PpfktQC45SBk8ujJAKnLYynN2NkCSMJaaPDE6QOlqEJ5Z6j1AUqUQA8fQQEDzrmeRTqtCQL5lljOlhERAXCWatqxcRkDxz9H8RjNIQO2u6f9VCEpAldfF0rvbS0Bh82qjWq1NQGpN5bwUfU9A2wKXRGalUECaJYdJMotRQC8\\u002fAMTfb1JALo4HHWBTU0DjqtjQpDVUQLCY0m+fFlVAjo5jn0H2VUCbZ\\u002fMafdRWQK6szLRDsVdAQCgEV4eMWECk9V4EOmZZQBT9NtlNPlpA681dDLUUW0CEyP3vYelbQJaJefJGvFxAgohJn1aNXUCj2tefg1xeQJENWrzAKV9AWQqp3AD1X0ALeouEG19gQAR6oTWrwmBA7HJ1JyklYUA+a10Rj4ZhQGMkjbzW5mFADZl7BPpFYkBfUUfX8qNiQGOGGTa7AGNAdg6INU1cY0B3DPb9orZjQJBb88u2D2RAbbGa8IJnZEAAce7RAb5kQMUnNOstE2VAxa9OzQFnZUCb8BYfeLllQLc5s52LCmZAaTDtHDdaZkAsTIaHdahmQMzbit9B9WZAHY6jPpdAZ0ASeWXWcIpnQBWaoPDJ0mdAm8qs750ZaEAdJLVO6F5oQIXOAaKkomhAfzRAl87kaED7mMn1YSVpQF4J6J5aZGlAFagZjrShaUAaS1LZa91pQFlqO7F8F2pA11lyYeNPakCdy8RQnIZqQJSVawGku2pAirdDEffuakDCnQU6kiBrQImcelFyUGtAYaGwSZR+a0B+Fiwx9aprQFb1FzOS1WtATgV0l2j+a0ByQ0HDdSVsQH5wrDi3SmxAasI2lypubEDtttybzY9sQIYEOyGer2xAj6exH5rNbEBJCYWtv+lsQJw+\\u002ff4MBG1ArVyDZoAcbUBM4bxUGDNtQJktpVjTR21AJhGlH7BabUAoZKh1rWttQE6vMUXKem1A+N9rlwWIbUC8BzqUXpNtQB8mRYLUnG1AyfsHx2akbUA+5tjmFKptQKrD8YTerW1AK951Y8OvbUAr3nVjw69tQKrD8YTerW1APubY5hSqbUDJ+wfHZqRtQB8mRYLUnG1AvAc6lF6TbUD432uXBYhtQE6vMUXKem1AKGSoda1rbUAmEaUfsFptQJktpVjTR21ATOG8VBgzbUCtXINmgBxtQJw+\\u002ff4MBG1ASQmFrb\\u002fpbECOp7Efms1sQIUEOyGer2xA7bbcm82PbEBqwjaXKm5sQH5wrDi3SmxAckNBw3UlbEBNBXSXaP5rQFb1FzOS1WtAfhYsMfWqa0BhobBJlH5rQImcelFyUGtAwZ0FOpIga0CKt0MR9+5qQJSVawGku2pAnMvEUJyGakDXWXJh409qQFhqO7F8F2pAGktS2WvdaUAVqBmOtKFpQF0J6J5aZGlA+5jJ9WElaUB+NECXzuRoQIXOAaKkomhAHCS1TuheaECayqzvnRloQBWaoPDJ0mdAEXll1nCKZ0AejqM+l0BnQMvbit9B9WZAKkyGh3WoZkBpMO0cN1pmQLY5s52LCmZAm\\u002fAWH3i5ZUDEr07NAWdlQMUnNOstE2VAAHHu0QG+ZEBssZrwgmdkQJBb88u2D2RAdwz2\\u002faK2Y0B3Dog1TVxjQGOGGTa7AGNAXVFH1\\u002fKjYkANmXsE+kViQGMkjbzW5mFAP2tdEY+GYUDrcnUnKSVhQAJ6oTWrwmBAC3qLhBtfYEBVCqncAPVfQJENWrzAKV9Ao9rXn4NcXkB\\u002fiEmfVo1dQJaJefJGvFxAgcj972HpW0DrzV0MtRRbQBT9NtlNPlpAovVeBDpmWUBAKARXh4xYQKuszLRDsVdAm2fzGn3UVkCOjmOfQfZVQLOY0m+fFlVA46rY0KQ1VEAqjgcdYFNTQC8\\u002fAMTfb1JAmiWHSTKLUUDbApdEZqVQQGpN5bwUfU9AWvNqo1qtTUCV18XSu9tLQOWu6f9VCEpA8c\\u002fR\\u002fEYzSEBcJZq2rFxGQLZlljOlhERA865nkU6rQkBLpRADx9BAQOlqEJ5Z6j1AkjCWmjwxOkAbctjKc3Y2QC45SBk8ujJAJ6Z9D6X5LUAayDJX6HwmQLzoTKd4\\u002fR1ATRf5mG3+DUBgY2NwpF8QPQ==\"},\"y\":{\"dtype\":\"f8\",\"bdata\":\"AAAAAACwbcBb986ODa9twMqos0o2rG3Aw3kUYnqnbcACdEMi2qBtwJ9WefdVmG3Aga7ObO6NbcCE9jIspIFtwO2\\u002fYf53c23A3uPVympjbcCPvrqXfVFtwFh124mxPW3Ae0iQ5AcobcD+8akJghBtwNASW3kh92zAsK8f0ufbbMB1v6LQ1r5swErMoU\\u002fwn2zAy6nORzZ\\u002fbMDZQa\\u002fPqlxswEt6extQOGzAjjX5fCgSbMCbcFZjNuprwJWAAVt8wGvAsnJ\\u002fDf2Ua8D6kEBBu2drwL8Oc9m5OGvAm9\\u002fT1fsHa8ADvH1ShNVqwI9WtodWoWrALcW5yXVrasChIYSI5TNqwMhkmU+p+mnALYDLxcS\\u002facCvuf6sO4NpwPtM7OERRWnAyFbjW0sFacDXDYgs7MNowONNkX\\u002f4gGjAtXiEmnQ8aMC5sW\\u002fcZPZnwIZ4or3NrmfA6KZkz7NlZ8AW16u7GxtnwM02z0QKz2bAQMw5RYSBZsC6MRuvjjJmwBTNFowu4mXAIojx\\u002fGiQZcBHDz45Qz1lwKabB4\\u002fC6GTAQ057YuySZMCsIZAtxjtkwMR3rX9V42PAXklQ\\u002fZ+JY8CC\\u002fa5fqy5jwDPuW3R90mLAo6DmHBx1YsAAt3tOjRZiwNihgxHXtmHAXxdAgf9VYcDVVmjLDPRgwH0+xC8FkWDAbjrG\\u002f+4sYMDlJUg8oY9fwL5B3fxgw17ATN1QSSr1XcCombZJCiVdwIrBWUUOU1zAv2jkoUN\\u002fW8Crm4Tit6lawLSsD6d40lnAoa0jq5P5WMBKI0fFFh9YwKABB+YPQ1fAyv4SF41lVsCrS1h6nIZVwHbAGklMplTAGYwM06rEU8BadWR9xuFSwFe88sGt\\u002fVHAxKs0Lm8YUcCk6GZiGTJQwNAfLSF2lU7AJmJi98XETMBNaiftP\\u002fJKwL6CMMYBHknAN0pGYilIR8DkxF271HBFwADCruMhmEPAZrXIAy++QcDHR0yxNMY\\u002fwMCEfWMEDjzAt80w3glUOMAg1q3+gZg0wOdAlrup2zDAt9MDQnw7KsA7ojOZ+L0iwHKdx6aFfhbATa0f1qr+\\u002fb87rh\\u002fWqv79P3Kdx6aFfhZAO6Izmfi9IkC30wNCfDsqQPZAlrup2zBAL9at\\u002foGYNEC3zTDeCVQ4QMCEfWMEDjxAx0dMsTTGP0BmtcgDL75BQAjCruMhmENA5MRdu9RwRUA3SkZiKUhHQL6CMMYBHklATWon7T\\u002fySkAuYmL3xcRMQNcfLSF2lU5ApOhmYhkyUEDEqzQubxhRQFe88sGt\\u002fVFAWnVkfcbhUkAdjAzTqsRTQHbAGklMplRAq0tYepyGVUDK\\u002fhIXjWVWQKABB+YPQ1dATSNHxRYfWEChrSOrk\\u002flYQLSsD6d40llAr5uE4repWkC\\u002faOShQ39bQI3BWUUOU1xAqJm2SQolXUBM3VBJKvVdQMFB3fxgw15A5SVIPKGPX0BwOsb\\u002f7ixgQHw+xC8FkWBA1lZoywz0YEBgF0CB\\u002f1VhQNihgxHXtmFAAbd7To0WYkCioOYcHHViQDPuW3R90mJAhP2uX6suY0BeSVD9n4ljQMV3rX9V42NArCGQLcY7ZEBDTnti7JJkQKWbB4\\u002fC6GRARw8+OUM9ZUAkiPH8aJBlQBTNFowu4mVAujEbr44yZkA\\u002fzDlFhIFmQM02z0QKz2ZAF9eruxsbZ0DopmTPs2VnQId4or3NrmdAuLFv3GT2Z0C1eISadDxoQORNkX\\u002f4gGhA1w2ILOzDaEDJVuNbSwVpQPtM7OERRWlAr7n+rDuDaUAugMvFxL9pQMhkmU+p+mlAoiGEiOUzakAtxbnJdWtqQI9WtodWoWpABLx9UoTVakCb39PV+wdrQMAOc9m5OGtA+pBAQbtna0Cycn8N\\u002fZRrQJSAAVt8wGtAm3BWYzbqa0CONfl8KBJsQEt6extQOGxA2UGvz6pcbEDLqc5HNn9sQErMoU\\u002fwn2xAdr+i0Na+bECwrx\\u002fS59tsQNASW3kh92xA\\u002fvGpCYIQbUB7SJDkByhtQFh124mxPW1Aj766l31RbUDe49XKamNtQO2\\u002fYf53c21AhPYyLKSBbUCBrs5s7o1tQJ9WefdVmG1AA3RDItqgbUDDeRRieqdtQMqos0o2rG1AW\\u002ffOjg2vbUAAAAAAALBtQA==\"},\"type\":\"scatter\"}],                        {\"template\":{\"data\":{\"histogram2dcontour\":[{\"type\":\"histogram2dcontour\",\"colorbar\":{\"outlinewidth\":0,\"ticks\":\"\"},\"colorscale\":[[0.0,\"#0d0887\"],[0.1111111111111111,\"#46039f\"],[0.2222222222222222,\"#7201a8\"],[0.3333333333333333,\"#9c179e\"],[0.4444444444444444,\"#bd3786\"],[0.5555555555555556,\"#d8576b\"],[0.6666666666666666,\"#ed7953\"],[0.7777777777777778,\"#fb9f3a\"],[0.8888888888888888,\"#fdca26\"],[1.0,\"#f0f921\"]]}],\"choropleth\":[{\"type\":\"choropleth\",\"colorbar\":{\"outlinewidth\":0,\"ticks\":\"\"}}],\"histogram2d\":[{\"type\":\"histogram2d\",\"colorbar\":{\"outlinewidth\":0,\"ticks\":\"\"},\"colorscale\":[[0.0,\"#0d0887\"],[0.1111111111111111,\"#46039f\"],[0.2222222222222222,\"#7201a8\"],[0.3333333333333333,\"#9c179e\"],[0.4444444444444444,\"#bd3786\"],[0.5555555555555556,\"#d8576b\"],[0.6666666666666666,\"#ed7953\"],[0.7777777777777778,\"#fb9f3a\"],[0.8888888888888888,\"#fdca26\"],[1.0,\"#f0f921\"]]}],\"heatmap\":[{\"type\":\"heatmap\",\"colorbar\":{\"outlinewidth\":0,\"ticks\":\"\"},\"colorscale\":[[0.0,\"#0d0887\"],[0.1111111111111111,\"#46039f\"],[0.2222222222222222,\"#7201a8\"],[0.3333333333333333,\"#9c179e\"],[0.4444444444444444,\"#bd3786\"],[0.5555555555555556,\"#d8576b\"],[0.6666666666666666,\"#ed7953\"],[0.7777777777777778,\"#fb9f3a\"],[0.8888888888888888,\"#fdca26\"],[1.0,\"#f0f921\"]]}],\"contourcarpet\":[{\"type\":\"contourcarpet\",\"colorbar\":{\"outlinewidth\":0,\"ticks\":\"\"}}],\"contour\":[{\"type\":\"contour\",\"colorbar\":{\"outlinewidth\":0,\"ticks\":\"\"},\"colorscale\":[[0.0,\"#0d0887\"],[0.1111111111111111,\"#46039f\"],[0.2222222222222222,\"#7201a8\"],[0.3333333333333333,\"#9c179e\"],[0.4444444444444444,\"#bd3786\"],[0.5555555555555556,\"#d8576b\"],[0.6666666666666666,\"#ed7953\"],[0.7777777777777778,\"#fb9f3a\"],[0.8888888888888888,\"#fdca26\"],[1.0,\"#f0f921\"]]}],\"surface\":[{\"type\":\"surface\",\"colorbar\":{\"outlinewidth\":0,\"ticks\":\"\"},\"colorscale\":[[0.0,\"#0d0887\"],[0.1111111111111111,\"#46039f\"],[0.2222222222222222,\"#7201a8\"],[0.3333333333333333,\"#9c179e\"],[0.4444444444444444,\"#bd3786\"],[0.5555555555555556,\"#d8576b\"],[0.6666666666666666,\"#ed7953\"],[0.7777777777777778,\"#fb9f3a\"],[0.8888888888888888,\"#fdca26\"],[1.0,\"#f0f921\"]]}],\"mesh3d\":[{\"type\":\"mesh3d\",\"colorbar\":{\"outlinewidth\":0,\"ticks\":\"\"}}],\"scatter\":[{\"fillpattern\":{\"fillmode\":\"overlay\",\"size\":10,\"solidity\":0.2},\"type\":\"scatter\"}],\"parcoords\":[{\"type\":\"parcoords\",\"line\":{\"colorbar\":{\"outlinewidth\":0,\"ticks\":\"\"}}}],\"scatterpolargl\":[{\"type\":\"scatterpolargl\",\"marker\":{\"colorbar\":{\"outlinewidth\":0,\"ticks\":\"\"}}}],\"bar\":[{\"error_x\":{\"color\":\"#2a3f5f\"},\"error_y\":{\"color\":\"#2a3f5f\"},\"marker\":{\"line\":{\"color\":\"#E5ECF6\",\"width\":0.5},\"pattern\":{\"fillmode\":\"overlay\",\"size\":10,\"solidity\":0.2}},\"type\":\"bar\"}],\"scattergeo\":[{\"type\":\"scattergeo\",\"marker\":{\"colorbar\":{\"outlinewidth\":0,\"ticks\":\"\"}}}],\"scatterpolar\":[{\"type\":\"scatterpolar\",\"marker\":{\"colorbar\":{\"outlinewidth\":0,\"ticks\":\"\"}}}],\"histogram\":[{\"marker\":{\"pattern\":{\"fillmode\":\"overlay\",\"size\":10,\"solidity\":0.2}},\"type\":\"histogram\"}],\"scattergl\":[{\"type\":\"scattergl\",\"marker\":{\"colorbar\":{\"outlinewidth\":0,\"ticks\":\"\"}}}],\"scatter3d\":[{\"type\":\"scatter3d\",\"line\":{\"colorbar\":{\"outlinewidth\":0,\"ticks\":\"\"}},\"marker\":{\"colorbar\":{\"outlinewidth\":0,\"ticks\":\"\"}}}],\"scattermap\":[{\"type\":\"scattermap\",\"marker\":{\"colorbar\":{\"outlinewidth\":0,\"ticks\":\"\"}}}],\"scattermapbox\":[{\"type\":\"scattermapbox\",\"marker\":{\"colorbar\":{\"outlinewidth\":0,\"ticks\":\"\"}}}],\"scatterternary\":[{\"type\":\"scatterternary\",\"marker\":{\"colorbar\":{\"outlinewidth\":0,\"ticks\":\"\"}}}],\"scattercarpet\":[{\"type\":\"scattercarpet\",\"marker\":{\"colorbar\":{\"outlinewidth\":0,\"ticks\":\"\"}}}],\"carpet\":[{\"aaxis\":{\"endlinecolor\":\"#2a3f5f\",\"gridcolor\":\"white\",\"linecolor\":\"white\",\"minorgridcolor\":\"white\",\"startlinecolor\":\"#2a3f5f\"},\"baxis\":{\"endlinecolor\":\"#2a3f5f\",\"gridcolor\":\"white\",\"linecolor\":\"white\",\"minorgridcolor\":\"white\",\"startlinecolor\":\"#2a3f5f\"},\"type\":\"carpet\"}],\"table\":[{\"cells\":{\"fill\":{\"color\":\"#EBF0F8\"},\"line\":{\"color\":\"white\"}},\"header\":{\"fill\":{\"color\":\"#C8D4E3\"},\"line\":{\"color\":\"white\"}},\"type\":\"table\"}],\"barpolar\":[{\"marker\":{\"line\":{\"color\":\"#E5ECF6\",\"width\":0.5},\"pattern\":{\"fillmode\":\"overlay\",\"size\":10,\"solidity\":0.2}},\"type\":\"barpolar\"}],\"pie\":[{\"automargin\":true,\"type\":\"pie\"}]},\"layout\":{\"autotypenumbers\":\"strict\",\"colorway\":[\"#636efa\",\"#EF553B\",\"#00cc96\",\"#ab63fa\",\"#FFA15A\",\"#19d3f3\",\"#FF6692\",\"#B6E880\",\"#FF97FF\",\"#FECB52\"],\"font\":{\"color\":\"#2a3f5f\"},\"hovermode\":\"closest\",\"hoverlabel\":{\"align\":\"left\"},\"paper_bgcolor\":\"white\",\"plot_bgcolor\":\"#E5ECF6\",\"polar\":{\"bgcolor\":\"#E5ECF6\",\"angularaxis\":{\"gridcolor\":\"white\",\"linecolor\":\"white\",\"ticks\":\"\"},\"radialaxis\":{\"gridcolor\":\"white\",\"linecolor\":\"white\",\"ticks\":\"\"}},\"ternary\":{\"bgcolor\":\"#E5ECF6\",\"aaxis\":{\"gridcolor\":\"white\",\"linecolor\":\"white\",\"ticks\":\"\"},\"baxis\":{\"gridcolor\":\"white\",\"linecolor\":\"white\",\"ticks\":\"\"},\"caxis\":{\"gridcolor\":\"white\",\"linecolor\":\"white\",\"ticks\":\"\"}},\"coloraxis\":{\"colorbar\":{\"outlinewidth\":0,\"ticks\":\"\"}},\"colorscale\":{\"sequential\":[[0.0,\"#0d0887\"],[0.1111111111111111,\"#46039f\"],[0.2222222222222222,\"#7201a8\"],[0.3333333333333333,\"#9c179e\"],[0.4444444444444444,\"#bd3786\"],[0.5555555555555556,\"#d8576b\"],[0.6666666666666666,\"#ed7953\"],[0.7777777777777778,\"#fb9f3a\"],[0.8888888888888888,\"#fdca26\"],[1.0,\"#f0f921\"]],\"sequentialminus\":[[0.0,\"#0d0887\"],[0.1111111111111111,\"#46039f\"],[0.2222222222222222,\"#7201a8\"],[0.3333333333333333,\"#9c179e\"],[0.4444444444444444,\"#bd3786\"],[0.5555555555555556,\"#d8576b\"],[0.6666666666666666,\"#ed7953\"],[0.7777777777777778,\"#fb9f3a\"],[0.8888888888888888,\"#fdca26\"],[1.0,\"#f0f921\"]],\"diverging\":[[0,\"#8e0152\"],[0.1,\"#c51b7d\"],[0.2,\"#de77ae\"],[0.3,\"#f1b6da\"],[0.4,\"#fde0ef\"],[0.5,\"#f7f7f7\"],[0.6,\"#e6f5d0\"],[0.7,\"#b8e186\"],[0.8,\"#7fbc41\"],[0.9,\"#4d9221\"],[1,\"#276419\"]]},\"xaxis\":{\"gridcolor\":\"white\",\"linecolor\":\"white\",\"ticks\":\"\",\"title\":{\"standoff\":15},\"zerolinecolor\":\"white\",\"automargin\":true,\"zerolinewidth\":2},\"yaxis\":{\"gridcolor\":\"white\",\"linecolor\":\"white\",\"ticks\":\"\",\"title\":{\"standoff\":15},\"zerolinecolor\":\"white\",\"automargin\":true,\"zerolinewidth\":2},\"scene\":{\"xaxis\":{\"backgroundcolor\":\"#E5ECF6\",\"gridcolor\":\"white\",\"linecolor\":\"white\",\"showbackground\":true,\"ticks\":\"\",\"zerolinecolor\":\"white\",\"gridwidth\":2},\"yaxis\":{\"backgroundcolor\":\"#E5ECF6\",\"gridcolor\":\"white\",\"linecolor\":\"white\",\"showbackground\":true,\"ticks\":\"\",\"zerolinecolor\":\"white\",\"gridwidth\":2},\"zaxis\":{\"backgroundcolor\":\"#E5ECF6\",\"gridcolor\":\"white\",\"linecolor\":\"white\",\"showbackground\":true,\"ticks\":\"\",\"zerolinecolor\":\"white\",\"gridwidth\":2}},\"shapedefaults\":{\"line\":{\"color\":\"#2a3f5f\"}},\"annotationdefaults\":{\"arrowcolor\":\"#2a3f5f\",\"arrowhead\":0,\"arrowwidth\":1},\"geo\":{\"bgcolor\":\"white\",\"landcolor\":\"#E5ECF6\",\"subunitcolor\":\"white\",\"showland\":true,\"showlakes\":true,\"lakecolor\":\"white\"},\"title\":{\"x\":0.05},\"mapbox\":{\"style\":\"light\"}}},\"xaxis\":{\"anchor\":\"y\",\"domain\":[0.0,1.0],\"title\":{\"text\":\"LOC_X\"},\"range\":[-250,250]},\"yaxis\":{\"anchor\":\"x\",\"domain\":[0.0,1.0],\"title\":{\"text\":\"LOC_Y\"},\"autorange\":\"reversed\",\"scaleanchor\":\"x\",\"scaleratio\":1,\"range\":[0,470]},\"legend\":{\"title\":{\"text\":\"SHOT_MADE_FLAG\"},\"tracegroupgap\":0},\"margin\":{\"t\":60},\"height\":700,\"width\":600,\"shapes\":[{\"line\":{\"color\":\"black\"},\"type\":\"circle\",\"x0\":-7.5,\"x1\":7.5,\"xref\":\"x\",\"y0\":-7.5,\"y1\":7.5,\"yref\":\"y\"},{\"line\":{\"color\":\"black\",\"width\":3},\"type\":\"line\",\"x0\":-30,\"x1\":30,\"xref\":\"x\",\"y0\":-7.5,\"y1\":-7.5,\"yref\":\"y\"},{\"line\":{\"color\":\"black\"},\"type\":\"rect\",\"x0\":-80,\"x1\":80,\"xref\":\"x\",\"y0\":0,\"y1\":190,\"yref\":\"y\"},{\"line\":{\"color\":\"black\"},\"type\":\"circle\",\"x0\":-60,\"x1\":60,\"xref\":\"x\",\"y0\":130,\"y1\":250,\"yref\":\"y\"}]},                        {\"responsive\": true}                    )                };            </script>        </div>"
      ],
      "text/plain": [
       "Figure({\n",
       "    'data': [{'hovertemplate': 'SHOT_MADE_FLAG=0<br>LOC_X=%{x}<br>LOC_Y=%{y}<extra></extra>',\n",
       "              'legendgroup': '0',\n",
       "              'marker': {'color': 'red', 'symbol': 'circle'},\n",
       "              'mode': 'markers',\n",
       "              'name': '0',\n",
       "              'showlegend': True,\n",
       "              'type': 'scattergl',\n",
       "              'x': {'bdata': ('PAAHAGn/r/+f/6QA6v/gAND/Q/9+/5' ... 'AAV/9cAHcA+/9xADb/CgBX/1T/IP8='),\n",
       "                    'dtype': 'i2'},\n",
       "              'xaxis': 'x',\n",
       "              'y': {'bdata': ('CgARAcUA5QCTALgB9P8zADsBvgDUAM' ... 'IAwwCwAGMAHgEeAfYADQDmAN8ATwA='),\n",
       "                    'dtype': 'i2'},\n",
       "              'yaxis': 'y'},\n",
       "             {'hovertemplate': 'SHOT_MADE_FLAG=1<br>LOC_X=%{x}<br>LOC_Y=%{y}<extra></extra>',\n",
       "              'legendgroup': '1',\n",
       "              'marker': {'color': 'green', 'symbol': 'circle'},\n",
       "              'mode': 'markers',\n",
       "              'name': '1',\n",
       "              'showlegend': True,\n",
       "              'type': 'scattergl',\n",
       "              'x': {'bdata': ('lgD5/wwA+v8VAOYAYgAa//n/HABv/y' ... '//6/90ACEA2gA6APP/Yf95ACEAH/8='),\n",
       "                    'dtype': 'i2'},\n",
       "              'xaxis': 'x',\n",
       "              'y': {'bdata': ('TwAGAAAAAQAKAEEAAwFjAAcA/ADeAB' ... 'QADQDnABQAgwC0APf/0wDvAA8ATwA='),\n",
       "                    'dtype': 'i2'},\n",
       "              'yaxis': 'y'},\n",
       "             {'line': {'color': 'black', 'width': 2},\n",
       "              'mode': 'lines',\n",
       "              'showlegend': False,\n",
       "              'type': 'scatter',\n",
       "              'x': {'bdata': ('YGNjcKRfED3DF/mYbf4NQLzoTKd4/R' ... 'd4/R1ATRf5mG3+DUBgY2NwpF8QPQ=='),\n",
       "                    'dtype': 'f8'},\n",
       "              'y': {'bdata': ('AAAAAACwbcBb986ODa9twMqos0o2rG' ... 'o2rG1AW/fOjg2vbUAAAAAAALBtQA=='),\n",
       "                    'dtype': 'f8'}}],\n",
       "    'layout': {'height': 700,\n",
       "               'legend': {'title': {'text': 'SHOT_MADE_FLAG'}, 'tracegroupgap': 0},\n",
       "               'margin': {'t': 60},\n",
       "               'shapes': [{'line': {'color': 'black'},\n",
       "                           'type': 'circle',\n",
       "                           'x0': -7.5,\n",
       "                           'x1': 7.5,\n",
       "                           'xref': 'x',\n",
       "                           'y0': -7.5,\n",
       "                           'y1': 7.5,\n",
       "                           'yref': 'y'},\n",
       "                          {'line': {'color': 'black', 'width': 3},\n",
       "                           'type': 'line',\n",
       "                           'x0': -30,\n",
       "                           'x1': 30,\n",
       "                           'xref': 'x',\n",
       "                           'y0': -7.5,\n",
       "                           'y1': -7.5,\n",
       "                           'yref': 'y'},\n",
       "                          {'line': {'color': 'black'},\n",
       "                           'type': 'rect',\n",
       "                           'x0': -80,\n",
       "                           'x1': 80,\n",
       "                           'xref': 'x',\n",
       "                           'y0': 0,\n",
       "                           'y1': 190,\n",
       "                           'yref': 'y'},\n",
       "                          {'line': {'color': 'black'},\n",
       "                           'type': 'circle',\n",
       "                           'x0': -60,\n",
       "                           'x1': 60,\n",
       "                           'xref': 'x',\n",
       "                           'y0': 130,\n",
       "                           'y1': 250,\n",
       "                           'yref': 'y'}],\n",
       "               'template': '...',\n",
       "               'width': 600,\n",
       "               'xaxis': {'anchor': 'y', 'domain': [0.0, 1.0], 'range': [-250, 250], 'title': {'text': 'LOC_X'}},\n",
       "               'yaxis': {'anchor': 'x',\n",
       "                         'autorange': 'reversed',\n",
       "                         'domain': [0.0, 1.0],\n",
       "                         'range': [0, 470],\n",
       "                         'scaleanchor': 'x',\n",
       "                         'scaleratio': 1,\n",
       "                         'title': {'text': 'LOC_Y'}}}\n",
       "})"
      ]
     },
     "execution_count": 61,
     "metadata": {},
     "output_type": "execute_result"
    }
   ],
   "source": [
    "import plotly.graph_objects as go\n",
    "\n",
    "fig = px.scatter(\n",
    "    data_frame=df_shots,\n",
    "    x=\"LOC_X\",\n",
    "    y=\"LOC_Y\",\n",
    "    color=\"SHOT_MADE_FLAG\",\n",
    "    color_discrete_map={\"0\": \"red\", \"1\": \"green\"},\n",
    "    width=600,\n",
    "    height=700\n",
    ")\n",
    "\n",
    "fig.update_yaxes(autorange='reversed')\n",
    "\n",
    "# Panier (cercle)\n",
    "fig.add_shape(type=\"circle\",\n",
    "              xref=\"x\", yref=\"y\",\n",
    "              x0=-7.5, y0=-7.5, x1=7.5, y1=7.5,\n",
    "              line_color=\"black\")\n",
    "\n",
    "# Planche\n",
    "fig.add_shape(type=\"line\",\n",
    "              x0=-30, y0=-7.5, x1=30, y1=-7.5,\n",
    "              xref=\"x\", yref=\"y\",\n",
    "              line=dict(color=\"black\", width=3))\n",
    "\n",
    "# Raquette (rectangle)\n",
    "fig.add_shape(type=\"rect\",\n",
    "              x0=-80, y0=0, x1=80, y1=190,\n",
    "              xref=\"x\", yref=\"y\",\n",
    "              line=dict(color=\"black\"))\n",
    "\n",
    "# Cercle de lancer-franc\n",
    "fig.add_shape(type=\"circle\",\n",
    "              xref=\"x\", yref=\"y\",\n",
    "              x0=-60, y0=130, x1=60, y1=250,\n",
    "              line_color=\"black\")\n",
    "\n",
    "# Arc à 3 points (approximation)\n",
    "import numpy as np\n",
    "theta = np.linspace(-np.pi/2, np.pi/2, 100)\n",
    "x_arc = 238 * np.cos(theta)\n",
    "y_arc = 238 * np.sin(theta) + 60\n",
    "\n",
    "fig.add_trace(go.Scatter(\n",
    "    x=x_arc, y=y_arc,\n",
    "    mode=\"lines\", line=dict(color=\"black\"), showlegend=False\n",
    "))\n",
    "\n",
    "fig.update_layout(\n",
    "    yaxis=dict(scaleanchor=\"x\", scaleratio=1),\n",
    "    xaxis=dict(range=[-250, 250]),\n",
    "    yaxis_range=[0, 470]\n",
    ")\n",
    "\n"
   ]
  }
 ],
 "metadata": {
  "kernelspec": {
   "display_name": ".venv",
   "language": "python",
   "name": "python3"
  },
  "language_info": {
   "codemirror_mode": {
    "name": "ipython",
    "version": 3
   },
   "file_extension": ".py",
   "mimetype": "text/x-python",
   "name": "python",
   "nbconvert_exporter": "python",
   "pygments_lexer": "ipython3",
   "version": "3.13.5"
  }
 },
 "nbformat": 4,
 "nbformat_minor": 5
}
